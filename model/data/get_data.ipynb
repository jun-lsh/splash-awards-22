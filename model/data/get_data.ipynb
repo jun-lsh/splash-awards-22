{
 "cells": [
  {
   "cell_type": "markdown",
   "source": [
    "Should be enough to retrieve data from earth engine."
   ],
   "metadata": {
    "collapsed": false,
    "pycharm": {
     "name": "#%% md\n"
    }
   }
  },
  {
   "cell_type": "code",
   "execution_count": 5,
   "outputs": [],
   "source": [
    "import numpy as np\n",
    "import pandas as pd\n",
    "\n",
    "%matplotlib inline\n",
    "import matplotlib.pyplot as plt\n",
    "from matplotlib.colors import LinearSegmentedColormap, to_rgba\n",
    "from matplotlib.widgets import Slider\n",
    "from matplotlib.dates import date2num\n",
    "import seaborn as sns\n",
    "import ipywidgets as widgets\n",
    "\n",
    "from scipy import stats\n",
    "from sklearn.linear_model import LinearRegression\n",
    "from sklearn.model_selection import train_test_split\n",
    "\n",
    "import ee # earth engine\n",
    "from datetime import datetime # handle datetime metadata\n",
    "import time\n",
    "import folium # folium to display geospatial data\n",
    "from pyproj import Transformer # convert between coordinate reference systems (crs)\n",
    "import json # to parse metadata\n",
    "import re # regex\n",
    "import geemap # interactive map for earth engine. requires ipyleaflet and a slightly complicated setup\n",
    "import tifffile as tiff# for displaying .tif images\n",
    "\n",
    "from IPython.display import clear_output"
   ],
   "metadata": {
    "collapsed": false,
    "pycharm": {
     "name": "#%%\n"
    }
   }
  },
  {
   "cell_type": "code",
   "execution_count": 2,
   "outputs": [
    {
     "data": {
      "text/html": [
       "<p>To authorize access needed by Earth Engine, open the following\n",
       "        URL in a web browser and follow the instructions:</p>\n",
       "        <p><a href=https://accounts.google.com/o/oauth2/auth?client_id=517222506229-vsmmajv00ul0bs7p89v5m89qs8eb9359.apps.googleusercontent.com&scope=https%3A%2F%2Fwww.googleapis.com%2Fauth%2Fearthengine+https%3A%2F%2Fwww.googleapis.com%2Fauth%2Fdevstorage.full_control&redirect_uri=urn%3Aietf%3Awg%3Aoauth%3A2.0%3Aoob&response_type=code&code_challenge=yymWXR2PT7qG15UfnwtuTXOtkBEPDt4IZ7z8ynxk7tI&code_challenge_method=S256>https://accounts.google.com/o/oauth2/auth?client_id=517222506229-vsmmajv00ul0bs7p89v5m89qs8eb9359.apps.googleusercontent.com&scope=https%3A%2F%2Fwww.googleapis.com%2Fauth%2Fearthengine+https%3A%2F%2Fwww.googleapis.com%2Fauth%2Fdevstorage.full_control&redirect_uri=urn%3Aietf%3Awg%3Aoauth%3A2.0%3Aoob&response_type=code&code_challenge=yymWXR2PT7qG15UfnwtuTXOtkBEPDt4IZ7z8ynxk7tI&code_challenge_method=S256</a></p>\n",
       "        <p>The authorization workflow will generate a code, which you\n",
       "        should paste in the box below</p>\n",
       "        "
      ],
      "text/plain": [
       "<IPython.core.display.HTML object>"
      ]
     },
     "metadata": {},
     "output_type": "display_data"
    },
    {
     "name": "stdout",
     "output_type": "stream",
     "text": [
      "Enter verification code: 4/1AX4XfWif3Ke2e7cXKweK0oupuIrcAcPm2FCId_M1lPNWj7-d-HOXabjL8E0\n",
      "\n",
      "Successfully saved authorization token.\n"
     ]
    }
   ],
   "source": [
    "# Trigger the authentication flow.\n",
    "ee.Authenticate()\n",
    "\n",
    "# Initialize the library.\n",
    "ee.Initialize()"
   ],
   "metadata": {
    "collapsed": false,
    "pycharm": {
     "name": "#%%\n"
    }
   }
  },
  {
   "cell_type": "code",
   "execution_count": 4,
   "outputs": [],
   "source": [
    "def extract_raster_values(lng, lat, start_date, end_date, image_collection, band_names, offset_alias=\"5D\", rect_radius=50, scale=30, export=False):\n",
    "    \"\"\"Extracts time series data of specified latitude longitude from specified image collection\n",
    "\n",
    "    Parameters\n",
    "    ----------\n",
    "    lng: longitude of point\n",
    "    lat: latitude of point\n",
    "    start_date: beginning date of time series (inclusive)\n",
    "    end_date: ending date of time series (exclusive)\n",
    "    image_collection: name of the image collection to collect data from\n",
    "    band_names: the band names from which to extract values\n",
    "    offset_alias: the satellite images only cover certain sections of the hemisphere at any point in time, using\n",
    "    offset aliases from pd timeseries we get the mean of values over the intervals before taking the requesting value\n",
    "    rect_radius: length from center to a side of the bounding rectangle in meters.\n",
    "    scale: pixel resolution of images in meters. If this is too small, we will exceed maximum pixel size,\n",
    "    although we can increase that but we end up requesting absurd pixel sizes and making the process very slow\n",
    "    export: boolean value determining whether we export the values to a csv file in google drive. This has impact upon\n",
    "    performance of the function as if we don't export (i.e. use .getInfo()) if the too much time series data is requested earth\n",
    "    engine will time out. The time out HOPEFULLY won't happen using ee.batch.Export.\n",
    "\n",
    "    Returns\n",
    "    -------\n",
    "    If export: Pandas Dataframe\n",
    "        Returns dataframe containing time series data for the specified point. Time index will begin from the start\n",
    "        interval after taking mean of values.\n",
    "    Else: Task\n",
    "        Returns an earth engine export task that can be run by calling task.start(). Status can be checked using task.status()\n",
    "        as tasks are asynchronous.\n",
    "    \"\"\"\n",
    "\n",
    "    # define the point geometry of interest\n",
    "    if rect_radius == 0: # if we ever want to retrieve a single point\n",
    "        point = ee.Geometry.Point(lng, lat)\n",
    "    else: # create a rectangle\n",
    "        proj = 'EPSG:3857' # this crs has meters as its units instead of ee's default 'EPSG:4326' projection with degrees as units\n",
    "        pointLatLon = ee.Geometry.Point(lng, lat); # doing operations in ee's default projection has lots of issues.\n",
    "        pointMeters = pointLatLon.transform(proj, 0.001); # convert point into meters projection\n",
    "        coords = pointMeters.coordinates();\n",
    "        minX = ee.Number(coords.get(0)).subtract(rect_radius); # now we can perform operations in terms of meters\n",
    "        minY = ee.Number(coords.get(1)).subtract(rect_radius);\n",
    "        maxX = ee.Number(coords.get(0)).add(rect_radius);\n",
    "        maxY = ee.Number(coords.get(1)).add(rect_radius);\n",
    "        point = ee.Geometry.Rectangle([minX, minY, maxX, maxY], proj, False) # create a rectangle in the meters projection\n",
    "\n",
    "    # create the image collection and set start/end dates so we dont end up pulling the whole image collection every time\n",
    "    date_intervals = [i.strftime(\"%Y-%m-%d\") for i in pd.date_range(start=start_date, end=end_date, freq=offset_alias)]\n",
    "    images = []\n",
    "\n",
    "    # create new date object that will be referenced through nonlocal\n",
    "    date = ee.Date(0)\n",
    "    # this is a surprise tool that will help us later!\n",
    "    def extract_date(image_collection):\n",
    "        nonlocal date # date is lost through filterDate+mean process, this is part of the process to\n",
    "        date = image_collection.first().date()  # convert date property into a band later to preserve date info\n",
    "\n",
    "\n",
    "    for i in range(len(date_intervals[:-1])): # iterating through every interval\n",
    "        # combining image collection into a single image with mean values\n",
    "        img = ee.ImageCollection(image_collection).filterDate(date_intervals[i], date_intervals[i+1])\\\n",
    "        .aside(extract_date).filterBounds(point).mean()  # at the same time we extract the start date of the intervals thru pass-by-ref\n",
    "        millis = date.millis() # constants only accept numbers, hence millis since unix epoch\n",
    "        millisBand = ee.Image.constant(millis).toLong().rename('millis') # create empty image with only millis values for every pixel\n",
    "        # add date (as a number starting from 0, i.e. Jan 1st = 0) as a band\n",
    "        images.append(img.addBands(millisBand))\n",
    "\n",
    "    band_names.append(\"millis\") # ensure when we are extracting relevant bands millis is one of them\n",
    "\n",
    "    # convert images to imageCollection (because earth engine has background optimisations to make operations more efficient)\n",
    "    aggregated_imageCollection = ee.ImageCollection(images)\n",
    "\n",
    "    # maps reduceRegion mean function across every image in the imageCollection\n",
    "    reduced_collection = aggregated_imageCollection.map(lambda image: image.set(\n",
    "        {'value': image.select(band_names).reduceRegion(ee.Reducer.mean(), point, scale, crs=proj),\n",
    "         'region': point.transform('EPSG:4326', 0.001).simplify(50000)})) # transforming to EPSG:4326 creates thousands of extra vertices\n",
    "            # we have to run simplify to reduce the number of vertices. number is picked arbitrarily.\n",
    "\n",
    "    # if we intend to export to google drive as csv file\n",
    "    if export:\n",
    "        desc = image_collection.split('/')[-1] + \";\" + str(lng) + \",\" + str(lat) + \";\" + start_date + \",\" + end_date + \";\" + offset_alias\n",
    "        return ee.batch.Export.table.toDrive(collection=reduced_collection, description=desc, fileFormat=\"csv\", folder=\"exported_files\")\n",
    "    else:\n",
    "        # retrieve values, in the form of a list of dictionaries, where the band values are key/value pairs\n",
    "        values = reduced_collection.aggregate_array('value').getInfo()\n",
    "        # returns dataframe of values, with the beginning of the interval which they were aggregated in as the index\n",
    "        return pd.DataFrame(values, date_intervals[:-1])"
   ],
   "metadata": {
    "collapsed": false,
    "pycharm": {
     "name": "#%%\n"
    }
   }
  },
  {
   "cell_type": "code",
   "execution_count": 5,
   "outputs": [],
   "source": [
    "def process_exported(file_path):\n",
    "    \"\"\"Extracts time series data of specified latitude longitude from specified image collection\n",
    "\n",
    "    Parameters\n",
    "    ----------\n",
    "    file_path: file path of the .csv file exported by a task\n",
    "\n",
    "    Returns\n",
    "    -------\n",
    "    Pandas DataFrame\n",
    "        Returns pandas dataframe where millis is the index, all the band values, band names and polygon region as columns.\n",
    "    \"\"\"\n",
    "    # read csv file\n",
    "    df = pd.read_csv(file_path, sep=',', header=0)\n",
    "\n",
    "    # of course the json in the value columns has to be some non standard funny unparsable format\n",
    "    values = df[\"value\"] # only relevant band we want is the 'value' band\n",
    "    values = values.str.replace(r\"(\\w+)(?==)\", r'\"\\1\"', regex=True) # regex to extract the keys and enclose them in \"\"s\n",
    "    values = values.str.replace(\"=\", \":\") # more cleaning by replacing = with : such that it is a standard dictionary\n",
    "\n",
    "    values = values.map(json.loads).apply(pd.Series) # now we actually turn the string into a dictionary, then apply pd.Series, splitting it into its own columns\n",
    "\n",
    "    # convert millis to year-month-date column\n",
    "    values['millis'] = pd.to_datetime(values['millis'], unit=\"ms\") # convert millis to a date\n",
    "    values.rename(columns={'millis':'date'}, inplace=True) # rename the column\n",
    "\n",
    "    # extract coordinate data while also removing an unnecessary dimension\n",
    "    region_series = df[\"region\"].apply(lambda x: np.array(json.loads(x)[\"coordinates\"]).squeeze().tolist())\n",
    "\n",
    "    output_df = values.set_index('date') # rename and set as index\n",
    "    output_df = output_df.assign(region=region_series.values) # add as a column\n",
    "\n",
    "    return output_df"
   ],
   "metadata": {
    "collapsed": false,
    "pycharm": {
     "name": "#%%\n"
    }
   }
  }
 ],
 "metadata": {
  "kernelspec": {
   "display_name": "Python 3",
   "language": "python",
   "name": "python3"
  },
  "language_info": {
   "codemirror_mode": {
    "name": "ipython",
    "version": 2
   },
   "file_extension": ".py",
   "mimetype": "text/x-python",
   "name": "python",
   "nbconvert_exporter": "python",
   "pygments_lexer": "ipython2",
   "version": "2.7.6"
  }
 },
 "nbformat": 4,
 "nbformat_minor": 0
}