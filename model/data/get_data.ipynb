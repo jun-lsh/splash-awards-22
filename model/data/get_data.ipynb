{
 "cells": [
  {
   "cell_type": "markdown",
   "metadata": {
    "pycharm": {
     "name": "#%% md\n"
    }
   },
   "source": [
    "Should be enough to retrieve data from earth engine."
   ]
  },
  {
   "cell_type": "code",
<<<<<<< HEAD
   "execution_count": 3,
   "metadata": {
=======
   "execution_count": 5,
   "metadata": {
    "collapsed": false,
    "jupyter": {
     "outputs_hidden": false
    },
>>>>>>> e8e4e62fd362613c8df3d3410cfd1279a5256f9e
    "pycharm": {
     "name": "#%%\n"
    }
   },
   "outputs": [],
   "source": [
    "import numpy as np\n",
    "import pandas as pd\n",
    "\n",
    "%matplotlib inline\n",
    "import matplotlib.pyplot as plt\n",
    "from matplotlib.colors import LinearSegmentedColormap, to_rgba\n",
    "from matplotlib.widgets import Slider\n",
    "from matplotlib.dates import date2num\n",
    "import seaborn as sns\n",
    "import ipywidgets as widgets\n",
    "\n",
    "from scipy import stats\n",
    "from sklearn.linear_model import LinearRegression\n",
    "from sklearn.model_selection import train_test_split\n",
    "\n",
    "import ee # earth engine\n",
    "from datetime import datetime # handle datetime metadata\n",
    "import time\n",
    "import folium # folium to display geospatial data\n",
    "from pyproj import Transformer # convert between coordinate reference systems (crs)\n",
    "import json # to parse metadata\n",
    "import re # regex\n",
    "import geemap # interactive map for earth engine. requires ipyleaflet and a slightly complicated setup\n",
    "import tifffile as tiff# for displaying .tif images\n",
    "\n",
    "from IPython.display import clear_output"
   ]
  },
  {
   "cell_type": "code",
<<<<<<< HEAD
   "execution_count": 4,
   "metadata": {
=======
   "execution_count": 2,
   "metadata": {
    "collapsed": false,
    "jupyter": {
     "outputs_hidden": false
    },
>>>>>>> e8e4e62fd362613c8df3d3410cfd1279a5256f9e
    "pycharm": {
     "name": "#%%\n"
    }
   },
   "outputs": [
    {
     "data": {
      "text/html": [
       "<p>To authorize access needed by Earth Engine, open the following\n",
       "        URL in a web browser and follow the instructions:</p>\n",
       "        <p><a href=https://code.earthengine.google.com/client-auth?scopes=https%3A//www.googleapis.com/auth/earthengine%20https%3A//www.googleapis.com/auth/devstorage.full_control&request_id=RXvGe4zU_jNLjR5CLiC7fSIa9tYG8jPf_lqf3DRXBAU&tc=Lnof7LOTCw4xHIZJrPZ3TGnB5eqFD3yRtSYFt-W8tUg&cc=fY8FMPqGRjmrAuBft8gQ9kINOqdmWRU5EnAfCFMtaQk>https://code.earthengine.google.com/client-auth?scopes=https%3A//www.googleapis.com/auth/earthengine%20https%3A//www.googleapis.com/auth/devstorage.full_control&request_id=RXvGe4zU_jNLjR5CLiC7fSIa9tYG8jPf_lqf3DRXBAU&tc=Lnof7LOTCw4xHIZJrPZ3TGnB5eqFD3yRtSYFt-W8tUg&cc=fY8FMPqGRjmrAuBft8gQ9kINOqdmWRU5EnAfCFMtaQk</a></p>\n",
       "        <p>The authorization workflow will generate a code, which you should paste in the box below.</p>\n",
       "        "
      ],
      "text/plain": [
       "<IPython.core.display.HTML object>"
      ]
     },
     "metadata": {},
     "output_type": "display_data"
    },
    {
     "name": "stdout",
     "output_type": "stream",
     "text": [
      "Enter verification code: 4/1AdQt8qido8aAiGNcnTe7sMpbig1RFq66mH1x3hHr-AHsODjtCKW081fLhtI\n",
      "\n",
      "Successfully saved authorization token.\n"
     ]
    },
    {
     "ename": "EEException",
     "evalue": "Not signed up for Earth Engine or project is not registered. Visit https://earthengine.google.com/faq/",
     "output_type": "error",
     "traceback": [
      "\u001b[0;31m---------------------------------------------------------------------------\u001b[0m",
      "\u001b[0;31mHttpError\u001b[0m                                 Traceback (most recent call last)",
      "\u001b[0;32m~/.local/lib/python3.8/site-packages/ee/data.py\u001b[0m in \u001b[0;36m_execute_cloud_call\u001b[0;34m(call, num_retries)\u001b[0m\n\u001b[1;32m    327\u001b[0m   \u001b[0;32mtry\u001b[0m\u001b[0;34m:\u001b[0m\u001b[0;34m\u001b[0m\u001b[0;34m\u001b[0m\u001b[0m\n\u001b[0;32m--> 328\u001b[0;31m     \u001b[0;32mreturn\u001b[0m \u001b[0mcall\u001b[0m\u001b[0;34m.\u001b[0m\u001b[0mexecute\u001b[0m\u001b[0;34m(\u001b[0m\u001b[0mnum_retries\u001b[0m\u001b[0;34m=\u001b[0m\u001b[0mnum_retries\u001b[0m\u001b[0;34m)\u001b[0m\u001b[0;34m\u001b[0m\u001b[0;34m\u001b[0m\u001b[0m\n\u001b[0m\u001b[1;32m    329\u001b[0m   \u001b[0;32mexcept\u001b[0m \u001b[0mgoogleapiclient\u001b[0m\u001b[0;34m.\u001b[0m\u001b[0merrors\u001b[0m\u001b[0;34m.\u001b[0m\u001b[0mHttpError\u001b[0m \u001b[0;32mas\u001b[0m \u001b[0me\u001b[0m\u001b[0;34m:\u001b[0m\u001b[0;34m\u001b[0m\u001b[0;34m\u001b[0m\u001b[0m\n",
      "\u001b[0;32m~/.local/lib/python3.8/site-packages/googleapiclient/_helpers.py\u001b[0m in \u001b[0;36mpositional_wrapper\u001b[0;34m(*args, **kwargs)\u001b[0m\n\u001b[1;32m    133\u001b[0m                     \u001b[0mlogger\u001b[0m\u001b[0;34m.\u001b[0m\u001b[0mwarning\u001b[0m\u001b[0;34m(\u001b[0m\u001b[0mmessage\u001b[0m\u001b[0;34m)\u001b[0m\u001b[0;34m\u001b[0m\u001b[0;34m\u001b[0m\u001b[0m\n\u001b[0;32m--> 134\u001b[0;31m             \u001b[0;32mreturn\u001b[0m \u001b[0mwrapped\u001b[0m\u001b[0;34m(\u001b[0m\u001b[0;34m*\u001b[0m\u001b[0margs\u001b[0m\u001b[0;34m,\u001b[0m \u001b[0;34m**\u001b[0m\u001b[0mkwargs\u001b[0m\u001b[0;34m)\u001b[0m\u001b[0;34m\u001b[0m\u001b[0;34m\u001b[0m\u001b[0m\n\u001b[0m\u001b[1;32m    135\u001b[0m \u001b[0;34m\u001b[0m\u001b[0m\n",
      "\u001b[0;32m~/.local/lib/python3.8/site-packages/googleapiclient/http.py\u001b[0m in \u001b[0;36mexecute\u001b[0;34m(self, http, num_retries)\u001b[0m\n\u001b[1;32m    914\u001b[0m         \u001b[0;32mif\u001b[0m \u001b[0mresp\u001b[0m\u001b[0;34m.\u001b[0m\u001b[0mstatus\u001b[0m \u001b[0;34m>=\u001b[0m \u001b[0;36m300\u001b[0m\u001b[0;34m:\u001b[0m\u001b[0;34m\u001b[0m\u001b[0;34m\u001b[0m\u001b[0m\n\u001b[0;32m--> 915\u001b[0;31m             \u001b[0;32mraise\u001b[0m \u001b[0mHttpError\u001b[0m\u001b[0;34m(\u001b[0m\u001b[0mresp\u001b[0m\u001b[0;34m,\u001b[0m \u001b[0mcontent\u001b[0m\u001b[0;34m,\u001b[0m \u001b[0muri\u001b[0m\u001b[0;34m=\u001b[0m\u001b[0mself\u001b[0m\u001b[0;34m.\u001b[0m\u001b[0muri\u001b[0m\u001b[0;34m)\u001b[0m\u001b[0;34m\u001b[0m\u001b[0;34m\u001b[0m\u001b[0m\n\u001b[0m\u001b[1;32m    916\u001b[0m         \u001b[0;32mreturn\u001b[0m \u001b[0mself\u001b[0m\u001b[0;34m.\u001b[0m\u001b[0mpostproc\u001b[0m\u001b[0;34m(\u001b[0m\u001b[0mresp\u001b[0m\u001b[0;34m,\u001b[0m \u001b[0mcontent\u001b[0m\u001b[0;34m)\u001b[0m\u001b[0;34m\u001b[0m\u001b[0;34m\u001b[0m\u001b[0m\n",
      "\u001b[0;31mHttpError\u001b[0m: <HttpError 403 when requesting https://earthengine.googleapis.com/v1alpha/projects/earthengine-legacy/algorithms?prettyPrint=false&alt=json returned \"Not signed up for Earth Engine or project is not registered. Visit https://earthengine.google.com/faq/\". Details: \"Not signed up for Earth Engine or project is not registered. Visit https://earthengine.google.com/faq/\">",
      "\nDuring handling of the above exception, another exception occurred:\n",
      "\u001b[0;31mEEException\u001b[0m                               Traceback (most recent call last)",
      "\u001b[0;32m/tmp/ipykernel_89033/2886432879.py\u001b[0m in \u001b[0;36m<module>\u001b[0;34m\u001b[0m\n\u001b[1;32m      3\u001b[0m \u001b[0;34m\u001b[0m\u001b[0m\n\u001b[1;32m      4\u001b[0m \u001b[0;31m# Initialize the library.\u001b[0m\u001b[0;34m\u001b[0m\u001b[0;34m\u001b[0m\u001b[0;34m\u001b[0m\u001b[0m\n\u001b[0;32m----> 5\u001b[0;31m \u001b[0mee\u001b[0m\u001b[0;34m.\u001b[0m\u001b[0mInitialize\u001b[0m\u001b[0;34m(\u001b[0m\u001b[0;34m)\u001b[0m\u001b[0;34m\u001b[0m\u001b[0;34m\u001b[0m\u001b[0m\n\u001b[0m",
      "\u001b[0;32m~/.local/lib/python3.8/site-packages/ee/__init__.py\u001b[0m in \u001b[0;36mInitialize\u001b[0;34m(credentials, opt_url, cloud_api_key, http_transport, project)\u001b[0m\n\u001b[1;32m    139\u001b[0m       http_transport=http_transport)\n\u001b[1;32m    140\u001b[0m   \u001b[0;31m# Initialize the dynamically loaded functions on the objects that want them.\u001b[0m\u001b[0;34m\u001b[0m\u001b[0;34m\u001b[0m\u001b[0;34m\u001b[0m\u001b[0m\n\u001b[0;32m--> 141\u001b[0;31m   \u001b[0mApiFunction\u001b[0m\u001b[0;34m.\u001b[0m\u001b[0minitialize\u001b[0m\u001b[0;34m(\u001b[0m\u001b[0;34m)\u001b[0m\u001b[0;34m\u001b[0m\u001b[0;34m\u001b[0m\u001b[0m\n\u001b[0m\u001b[1;32m    142\u001b[0m   \u001b[0mElement\u001b[0m\u001b[0;34m.\u001b[0m\u001b[0minitialize\u001b[0m\u001b[0;34m(\u001b[0m\u001b[0;34m)\u001b[0m\u001b[0;34m\u001b[0m\u001b[0;34m\u001b[0m\u001b[0m\n\u001b[1;32m    143\u001b[0m   \u001b[0mImage\u001b[0m\u001b[0;34m.\u001b[0m\u001b[0minitialize\u001b[0m\u001b[0;34m(\u001b[0m\u001b[0;34m)\u001b[0m\u001b[0;34m\u001b[0m\u001b[0;34m\u001b[0m\u001b[0m\n",
      "\u001b[0;32m~/.local/lib/python3.8/site-packages/ee/apifunction.py\u001b[0m in \u001b[0;36minitialize\u001b[0;34m(cls)\u001b[0m\n\u001b[1;32m    152\u001b[0m     \u001b[0;34m\"\"\"Initializes the list of signatures from the Earth Engine front-end.\"\"\"\u001b[0m\u001b[0;34m\u001b[0m\u001b[0;34m\u001b[0m\u001b[0m\n\u001b[1;32m    153\u001b[0m     \u001b[0;32mif\u001b[0m \u001b[0;32mnot\u001b[0m \u001b[0mcls\u001b[0m\u001b[0;34m.\u001b[0m\u001b[0m_api\u001b[0m\u001b[0;34m:\u001b[0m\u001b[0;34m\u001b[0m\u001b[0;34m\u001b[0m\u001b[0m\n\u001b[0;32m--> 154\u001b[0;31m       \u001b[0msignatures\u001b[0m \u001b[0;34m=\u001b[0m \u001b[0mdata\u001b[0m\u001b[0;34m.\u001b[0m\u001b[0mgetAlgorithms\u001b[0m\u001b[0;34m(\u001b[0m\u001b[0;34m)\u001b[0m\u001b[0;34m\u001b[0m\u001b[0;34m\u001b[0m\u001b[0m\n\u001b[0m\u001b[1;32m    155\u001b[0m       \u001b[0mapi\u001b[0m \u001b[0;34m=\u001b[0m \u001b[0;34m{\u001b[0m\u001b[0;34m}\u001b[0m\u001b[0;34m\u001b[0m\u001b[0;34m\u001b[0m\u001b[0m\n\u001b[1;32m    156\u001b[0m       \u001b[0;32mfor\u001b[0m \u001b[0mname\u001b[0m\u001b[0;34m,\u001b[0m \u001b[0msig\u001b[0m \u001b[0;32min\u001b[0m \u001b[0msignatures\u001b[0m\u001b[0;34m.\u001b[0m\u001b[0mitems\u001b[0m\u001b[0;34m(\u001b[0m\u001b[0;34m)\u001b[0m\u001b[0;34m:\u001b[0m\u001b[0;34m\u001b[0m\u001b[0;34m\u001b[0m\u001b[0m\n",
      "\u001b[0;32m~/.local/lib/python3.8/site-packages/ee/data.py\u001b[0m in \u001b[0;36mgetAlgorithms\u001b[0;34m()\u001b[0m\n\u001b[1;32m   1069\u001b[0m           file=sys.stderr)\n\u001b[1;32m   1070\u001b[0m   \u001b[0mcall\u001b[0m\u001b[0;34m.\u001b[0m\u001b[0madd_response_callback\u001b[0m\u001b[0;34m(\u001b[0m\u001b[0minspect\u001b[0m\u001b[0;34m)\u001b[0m\u001b[0;34m\u001b[0m\u001b[0;34m\u001b[0m\u001b[0m\n\u001b[0;32m-> 1071\u001b[0;31m   \u001b[0;32mreturn\u001b[0m \u001b[0m_cloud_api_utils\u001b[0m\u001b[0;34m.\u001b[0m\u001b[0mconvert_algorithms\u001b[0m\u001b[0;34m(\u001b[0m\u001b[0m_execute_cloud_call\u001b[0m\u001b[0;34m(\u001b[0m\u001b[0mcall\u001b[0m\u001b[0;34m)\u001b[0m\u001b[0;34m)\u001b[0m\u001b[0;34m\u001b[0m\u001b[0;34m\u001b[0m\u001b[0m\n\u001b[0m\u001b[1;32m   1072\u001b[0m \u001b[0;34m\u001b[0m\u001b[0m\n\u001b[1;32m   1073\u001b[0m \u001b[0;34m\u001b[0m\u001b[0m\n",
      "\u001b[0;32m~/.local/lib/python3.8/site-packages/ee/data.py\u001b[0m in \u001b[0;36m_execute_cloud_call\u001b[0;34m(call, num_retries)\u001b[0m\n\u001b[1;32m    328\u001b[0m     \u001b[0;32mreturn\u001b[0m \u001b[0mcall\u001b[0m\u001b[0;34m.\u001b[0m\u001b[0mexecute\u001b[0m\u001b[0;34m(\u001b[0m\u001b[0mnum_retries\u001b[0m\u001b[0;34m=\u001b[0m\u001b[0mnum_retries\u001b[0m\u001b[0;34m)\u001b[0m\u001b[0;34m\u001b[0m\u001b[0;34m\u001b[0m\u001b[0m\n\u001b[1;32m    329\u001b[0m   \u001b[0;32mexcept\u001b[0m \u001b[0mgoogleapiclient\u001b[0m\u001b[0;34m.\u001b[0m\u001b[0merrors\u001b[0m\u001b[0;34m.\u001b[0m\u001b[0mHttpError\u001b[0m \u001b[0;32mas\u001b[0m \u001b[0me\u001b[0m\u001b[0;34m:\u001b[0m\u001b[0;34m\u001b[0m\u001b[0;34m\u001b[0m\u001b[0m\n\u001b[0;32m--> 330\u001b[0;31m     \u001b[0;32mraise\u001b[0m \u001b[0m_translate_cloud_exception\u001b[0m\u001b[0;34m(\u001b[0m\u001b[0me\u001b[0m\u001b[0;34m)\u001b[0m\u001b[0;34m\u001b[0m\u001b[0;34m\u001b[0m\u001b[0m\n\u001b[0m\u001b[1;32m    331\u001b[0m \u001b[0;34m\u001b[0m\u001b[0m\n\u001b[1;32m    332\u001b[0m \u001b[0;34m\u001b[0m\u001b[0m\n",
      "\u001b[0;31mEEException\u001b[0m: Not signed up for Earth Engine or project is not registered. Visit https://earthengine.google.com/faq/"
     ]
    }
   ],
   "source": [
    "# Trigger the authentication flow.\n",
    "ee.Authenticate()\n",
    "\n",
    "# Initialize the library.\n",
    "ee.Initialize()"
   ]
  },
  {
   "cell_type": "code",
<<<<<<< HEAD
   "execution_count": null,
   "metadata": {
=======
   "execution_count": 4,
   "metadata": {
    "collapsed": false,
    "jupyter": {
     "outputs_hidden": false
    },
>>>>>>> e8e4e62fd362613c8df3d3410cfd1279a5256f9e
    "pycharm": {
     "name": "#%%\n"
    }
   },
   "outputs": [],
   "source": [
    "def extract_raster_values(lng, lat, start_date, end_date, image_collection, band_names, offset_alias=\"5D\", rect_radius=50, scale=30, export=False):\n",
    "    \"\"\"Extracts time series data of specified latitude longitude from specified image collection\n",
    "\n",
    "    Parameters\n",
    "    ----------\n",
    "    lng: longitude of point\n",
    "    lat: latitude of point\n",
    "    start_date: beginning date of time series (inclusive)\n",
    "    end_date: ending date of time series (exclusive)\n",
    "    image_collection: name of the image collection to collect data from\n",
    "    band_names: the band names from which to extract values\n",
    "    offset_alias: the satellite images only cover certain sections of the hemisphere at any point in time, using\n",
    "    offset aliases from pd timeseries we get the mean of values over the intervals before taking the requesting value\n",
    "    rect_radius: length from center to a side of the bounding rectangle in meters.\n",
    "    scale: pixel resolution of images in meters. If this is too small, we will exceed maximum pixel size,\n",
    "    although we can increase that but we end up requesting absurd pixel sizes and making the process very slow\n",
    "    export: boolean value determining whether we export the values to a csv file in google drive. This has impact upon\n",
    "    performance of the function as if we don't export (i.e. use .getInfo()) if the too much time series data is requested earth\n",
    "    engine will time out. The time out HOPEFULLY won't happen using ee.batch.Export.\n",
    "\n",
    "    Returns\n",
    "    -------\n",
    "    If export: Pandas Dataframe\n",
    "        Returns dataframe containing time series data for the specified point. Time index will begin from the start\n",
    "        interval after taking mean of values.\n",
    "    Else: Task\n",
    "        Returns an earth engine export task that can be run by calling task.start(). Status can be checked using task.status()\n",
    "        as tasks are asynchronous.\n",
    "    \"\"\"\n",
    "\n",
    "    # define the point geometry of interest\n",
    "    if rect_radius == 0: # if we ever want to retrieve a single point\n",
    "        point = ee.Geometry.Point(lng, lat)\n",
    "    else: # create a rectangle\n",
    "        proj = 'EPSG:3857' # this crs has meters as its units instead of ee's default 'EPSG:4326' projection with degrees as units\n",
    "        pointLatLon = ee.Geometry.Point(lng, lat); # doing operations in ee's default projection has lots of issues.\n",
    "        pointMeters = pointLatLon.transform(proj, 0.001); # convert point into meters projection\n",
    "        coords = pointMeters.coordinates();\n",
    "        minX = ee.Number(coords.get(0)).subtract(rect_radius); # now we can perform operations in terms of meters\n",
    "        minY = ee.Number(coords.get(1)).subtract(rect_radius);\n",
    "        maxX = ee.Number(coords.get(0)).add(rect_radius);\n",
    "        maxY = ee.Number(coords.get(1)).add(rect_radius);\n",
    "        point = ee.Geometry.Rectangle([minX, minY, maxX, maxY], proj, False) # create a rectangle in the meters projection\n",
    "\n",
    "    # create the image collection and set start/end dates so we dont end up pulling the whole image collection every time\n",
    "    date_intervals = [i.strftime(\"%Y-%m-%d\") for i in pd.date_range(start=start_date, end=end_date, freq=offset_alias)]\n",
    "    images = []\n",
    "\n",
    "    # create new date object that will be referenced through nonlocal\n",
    "    date = ee.Date(0)\n",
    "    # this is a surprise tool that will help us later!\n",
    "    def extract_date(image_collection):\n",
    "        nonlocal date # date is lost through filterDate+mean process, this is part of the process to\n",
    "        date = image_collection.first().date()  # convert date property into a band later to preserve date info\n",
    "\n",
    "\n",
    "    for i in range(len(date_intervals[:-1])): # iterating through every interval\n",
    "        # combining image collection into a single image with mean values\n",
    "        img = ee.ImageCollection(image_collection).filterDate(date_intervals[i], date_intervals[i+1])\\\n",
    "        .aside(extract_date).filterBounds(point).mean()  # at the same time we extract the start date of the intervals thru pass-by-ref\n",
    "        millis = date.millis() # constants only accept numbers, hence millis since unix epoch\n",
    "        millisBand = ee.Image.constant(millis).toLong().rename('millis') # create empty image with only millis values for every pixel\n",
    "        # add date (as a number starting from 0, i.e. Jan 1st = 0) as a band\n",
    "        images.append(img.addBands(millisBand))\n",
    "\n",
    "    band_names.append(\"millis\") # ensure when we are extracting relevant bands millis is one of them\n",
    "\n",
    "    # convert images to imageCollection (because earth engine has background optimisations to make operations more efficient)\n",
    "    aggregated_imageCollection = ee.ImageCollection(images)\n",
    "\n",
    "    # maps reduceRegion mean function across every image in the imageCollection\n",
    "    reduced_collection = aggregated_imageCollection.map(lambda image: image.set(\n",
    "        {'value': image.select(band_names).reduceRegion(ee.Reducer.mean(), point, scale, crs=proj),\n",
    "         'region': point.transform('EPSG:4326', 0.001).simplify(50000)})) # transforming to EPSG:4326 creates thousands of extra vertices\n",
    "            # we have to run simplify to reduce the number of vertices. number is picked arbitrarily.\n",
    "\n",
    "    # if we intend to export to google drive as csv file\n",
    "    if export:\n",
    "        desc = image_collection.split('/')[-1] + \";\" + str(lng) + \",\" + str(lat) + \";\" + start_date + \",\" + end_date + \";\" + offset_alias\n",
    "        return ee.batch.Export.table.toDrive(collection=reduced_collection, description=desc, fileFormat=\"csv\", folder=\"exported_files\")\n",
    "    else:\n",
    "        # retrieve values, in the form of a list of dictionaries, where the band values are key/value pairs\n",
    "        values = reduced_collection.aggregate_array('value').getInfo()\n",
    "        # returns dataframe of values, with the beginning of the interval which they were aggregated in as the index\n",
    "        return pd.DataFrame(values, date_intervals[:-1])"
   ]
  },
  {
   "cell_type": "code",
   "execution_count": 5,
   "metadata": {
<<<<<<< HEAD
=======
    "collapsed": false,
    "jupyter": {
     "outputs_hidden": false
    },
>>>>>>> e8e4e62fd362613c8df3d3410cfd1279a5256f9e
    "pycharm": {
     "name": "#%%\n"
    }
   },
   "outputs": [],
   "source": [
    "def process_exported(file_path):\n",
    "    \"\"\"Extracts time series data of specified latitude longitude from specified image collection\n",
    "\n",
    "    Parameters\n",
    "    ----------\n",
    "    file_path: file path of the .csv file exported by a task\n",
    "\n",
    "    Returns\n",
    "    -------\n",
    "    Pandas DataFrame\n",
    "        Returns pandas dataframe where millis is the index, all the band values, band names and polygon region as columns.\n",
    "    \"\"\"\n",
    "    # read csv file\n",
    "    df = pd.read_csv(file_path, sep=',', header=0)\n",
    "\n",
    "    # of course the json in the value columns has to be some non standard funny unparsable format\n",
    "    values = df[\"value\"] # only relevant band we want is the 'value' band\n",
    "    values = values.str.replace(r\"(\\w+)(?==)\", r'\"\\1\"', regex=True) # regex to extract the keys and enclose them in \"\"s\n",
    "    values = values.str.replace(\"=\", \":\") # more cleaning by replacing = with : such that it is a standard dictionary\n",
    "\n",
    "    values = values.map(json.loads).apply(pd.Series) # now we actually turn the string into a dictionary, then apply pd.Series, splitting it into its own columns\n",
    "\n",
    "    # convert millis to year-month-date column\n",
    "    values['millis'] = pd.to_datetime(values['millis'], unit=\"ms\") # convert millis to a date\n",
    "    values.rename(columns={'millis':'date'}, inplace=True) # rename the column\n",
    "\n",
    "    # extract coordinate data while also removing an unnecessary dimension\n",
    "    region_series = df[\"region\"].apply(lambda x: np.array(json.loads(x)[\"coordinates\"]).squeeze().tolist())\n",
    "\n",
    "    output_df = values.set_index('date') # rename and set as index\n",
    "    output_df = output_df.assign(region=region_series.values) # add as a column\n",
    "\n",
    "    return output_df"
   ]
<<<<<<< HEAD
  },
  {
   "cell_type": "code",
   "execution_count": null,
   "metadata": {},
   "outputs": [],
   "source": []
=======
>>>>>>> e8e4e62fd362613c8df3d3410cfd1279a5256f9e
  }
 ],
 "metadata": {
  "kernelspec": {
   "display_name": "Python 3 (ipykernel)",
   "language": "python",
   "name": "python3"
  },
  "language_info": {
   "codemirror_mode": {
    "name": "ipython",
    "version": 3
   },
   "file_extension": ".py",
   "mimetype": "text/x-python",
   "name": "python",
   "nbconvert_exporter": "python",
   "pygments_lexer": "ipython3",
<<<<<<< HEAD
   "version": "3.8.13"
  }
 },
 "nbformat": 4,
 "nbformat_minor": 1
=======
   "version": "3.9.12"
  }
 },
 "nbformat": 4,
 "nbformat_minor": 4
>>>>>>> e8e4e62fd362613c8df3d3410cfd1279a5256f9e
}
