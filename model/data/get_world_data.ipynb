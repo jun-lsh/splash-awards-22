{
 "cells": [
  {
   "cell_type": "code",
   "execution_count": 2,
   "id": "5590ae14-5b06-43f6-821e-3375e83e63c0",
   "metadata": {},
   "outputs": [],
   "source": [
    "import geopandas as gp\n",
    "import matplotlib.pyplot as plt\n",
    "\n",
    "from shapely.ops import unary_union\n",
    "from shapely.geometry import Polygon\n",
    "\n",
    "import numpy as np\n",
    "\n",
    "from datetime import timedelta, datetime"
   ]
  },
  {
   "cell_type": "code",
   "execution_count": 3,
   "id": "3bfaa8d7-24eb-4d4f-8814-23370e98e1da",
   "metadata": {},
   "outputs": [
    {
     "data": {
      "text/html": [
       "<div>\n",
       "<style scoped>\n",
       "    .dataframe tbody tr th:only-of-type {\n",
       "        vertical-align: middle;\n",
       "    }\n",
       "\n",
       "    .dataframe tbody tr th {\n",
       "        vertical-align: top;\n",
       "    }\n",
       "\n",
       "    .dataframe thead th {\n",
       "        text-align: right;\n",
       "    }\n",
       "</style>\n",
       "<table border=\"1\" class=\"dataframe\">\n",
       "  <thead>\n",
       "    <tr style=\"text-align: right;\">\n",
       "      <th></th>\n",
       "      <th>name</th>\n",
       "      <th>id</th>\n",
       "      <th>longitude</th>\n",
       "      <th>latitude</th>\n",
       "      <th>min_x</th>\n",
       "      <th>min_y</th>\n",
       "      <th>max_x</th>\n",
       "      <th>max_y</th>\n",
       "      <th>area</th>\n",
       "      <th>mrgid</th>\n",
       "      <th>geometry</th>\n",
       "    </tr>\n",
       "  </thead>\n",
       "  <tbody>\n",
       "    <tr>\n",
       "      <th>7</th>\n",
       "      <td>South Atlantic Ocean</td>\n",
       "      <td>32</td>\n",
       "      <td>-18.808767</td>\n",
       "      <td>-33.732396</td>\n",
       "      <td>-69.600837</td>\n",
       "      <td>-60.000000</td>\n",
       "      <td>20.009049</td>\n",
       "      <td>0.075106</td>\n",
       "      <td>40501812.0</td>\n",
       "      <td>1914</td>\n",
       "      <td>POLYGON ((8.97417 -0.93603, 8.97515 -0.93592, ...</td>\n",
       "    </tr>\n",
       "    <tr>\n",
       "      <th>9</th>\n",
       "      <td>North Atlantic Ocean</td>\n",
       "      <td>23</td>\n",
       "      <td>-37.624244</td>\n",
       "      <td>29.480034</td>\n",
       "      <td>-83.014914</td>\n",
       "      <td>-0.002563</td>\n",
       "      <td>6.619967</td>\n",
       "      <td>68.638716</td>\n",
       "      <td>34507128.0</td>\n",
       "      <td>1912</td>\n",
       "      <td>POLYGON ((-6.26384 62.34582, -6.17706 62.32412...</td>\n",
       "    </tr>\n",
       "  </tbody>\n",
       "</table>\n",
       "</div>"
      ],
      "text/plain": [
       "                   name  id  longitude   latitude      min_x      min_y  \\\n",
       "7  South Atlantic Ocean  32 -18.808767 -33.732396 -69.600837 -60.000000   \n",
       "9  North Atlantic Ocean  23 -37.624244  29.480034 -83.014914  -0.002563   \n",
       "\n",
       "       max_x      max_y        area  mrgid  \\\n",
       "7  20.009049   0.075106  40501812.0   1914   \n",
       "9   6.619967  68.638716  34507128.0   1912   \n",
       "\n",
       "                                            geometry  \n",
       "7  POLYGON ((8.97417 -0.93603, 8.97515 -0.93592, ...  \n",
       "9  POLYGON ((-6.26384 62.34582, -6.17706 62.32412...  "
      ]
     },
     "execution_count": 3,
     "metadata": {},
     "output_type": "execute_result"
    }
   ],
   "source": [
    "tes = gp.read_file(r'iho\\iho.shp')\n",
    "df = tes.loc[tes.name.isin(['South Atlantic Ocean', 'North Atlantic Ocean'])]\n",
    "df"
   ]
  },
  {
   "cell_type": "code",
   "execution_count": 4,
   "id": "19064389-8198-4233-a57b-5f74c4fd595b",
   "metadata": {},
   "outputs": [
    {
     "data": {
      "text/plain": [
       "<AxesSubplot:>"
      ]
     },
     "execution_count": 4,
     "metadata": {},
     "output_type": "execute_result"
    },
    {
     "data": {
      "image/png": "[encoded data removed]",
      "text/plain": [
       "<Figure size 640x480 with 1 Axes>"
      ]
     },
     "metadata": {},
     "output_type": "display_data"
    }
   ],
   "source": [
    "atlantic = df.dissolve().to_crs(epsg=3857)\n",
    "atlantic.plot()"
   ]
  },
  {
   "cell_type": "code",
   "execution_count": 5,
   "id": "1c32b27f-4b2a-4336-9752-992febbfe6da",
   "metadata": {},
   "outputs": [
    {
     "data": {
      "text/plain": [
       "(-9241177.971966805,\n",
       " -8399737.889818331,\n",
       " 2227397.1613292582,\n",
       " 10639472.197641218)"
      ]
     },
     "execution_count": 5,
     "metadata": {},
     "output_type": "execute_result"
    }
   ],
   "source": [
    "atlantic.geometry[0].bounds"
   ]
  },
  {
   "cell_type": "code",
   "execution_count": 6,
   "id": "8e8ff247-ffc0-4cb4-aab0-43e6437b1905",
   "metadata": {},
   "outputs": [
    {
     "data": {
      "text/html": [
       "<div>\n",
       "<style scoped>\n",
       "    .dataframe tbody tr th:only-of-type {\n",
       "        vertical-align: middle;\n",
       "    }\n",
       "\n",
       "    .dataframe tbody tr th {\n",
       "        vertical-align: top;\n",
       "    }\n",
       "\n",
       "    .dataframe thead th {\n",
       "        text-align: right;\n",
       "    }\n",
       "</style>\n",
       "<table border=\"1\" class=\"dataframe\">\n",
       "  <thead>\n",
       "    <tr style=\"text-align: right;\">\n",
       "      <th></th>\n",
       "      <th>geometry</th>\n",
       "    </tr>\n",
       "  </thead>\n",
       "  <tbody>\n",
       "    <tr>\n",
       "      <th>0</th>\n",
       "      <td>POLYGON ((-9241177.972 -8399737.890, -9231177....</td>\n",
       "    </tr>\n",
       "    <tr>\n",
       "      <th>1</th>\n",
       "      <td>POLYGON ((-9241177.972 -8389737.890, -9231177....</td>\n",
       "    </tr>\n",
       "    <tr>\n",
       "      <th>2</th>\n",
       "      <td>POLYGON ((-9241177.972 -8379737.890, -9231177....</td>\n",
       "    </tr>\n",
       "    <tr>\n",
       "      <th>3</th>\n",
       "      <td>POLYGON ((-9241177.972 -8369737.890, -9231177....</td>\n",
       "    </tr>\n",
       "    <tr>\n",
       "      <th>4</th>\n",
       "      <td>POLYGON ((-9241177.972 -8359737.890, -9231177....</td>\n",
       "    </tr>\n",
       "    <tr>\n",
       "      <th>...</th>\n",
       "      <td>...</td>\n",
       "    </tr>\n",
       "    <tr>\n",
       "      <th>2183883</th>\n",
       "      <td>POLYGON ((2218822.028 10590262.110, 2228822.02...</td>\n",
       "    </tr>\n",
       "    <tr>\n",
       "      <th>2183884</th>\n",
       "      <td>POLYGON ((2218822.028 10600262.110, 2228822.02...</td>\n",
       "    </tr>\n",
       "    <tr>\n",
       "      <th>2183885</th>\n",
       "      <td>POLYGON ((2218822.028 10610262.110, 2228822.02...</td>\n",
       "    </tr>\n",
       "    <tr>\n",
       "      <th>2183886</th>\n",
       "      <td>POLYGON ((2218822.028 10620262.110, 2228822.02...</td>\n",
       "    </tr>\n",
       "    <tr>\n",
       "      <th>2183887</th>\n",
       "      <td>POLYGON ((2218822.028 10630262.110, 2228822.02...</td>\n",
       "    </tr>\n",
       "  </tbody>\n",
       "</table>\n",
       "<p>2183888 rows × 1 columns</p>\n",
       "</div>"
      ],
      "text/plain": [
       "                                                  geometry\n",
       "0        POLYGON ((-9241177.972 -8399737.890, -9231177....\n",
       "1        POLYGON ((-9241177.972 -8389737.890, -9231177....\n",
       "2        POLYGON ((-9241177.972 -8379737.890, -9231177....\n",
       "3        POLYGON ((-9241177.972 -8369737.890, -9231177....\n",
       "4        POLYGON ((-9241177.972 -8359737.890, -9231177....\n",
       "...                                                    ...\n",
       "2183883  POLYGON ((2218822.028 10590262.110, 2228822.02...\n",
       "2183884  POLYGON ((2218822.028 10600262.110, 2228822.02...\n",
       "2183885  POLYGON ((2218822.028 10610262.110, 2228822.02...\n",
       "2183886  POLYGON ((2218822.028 10620262.110, 2228822.02...\n",
       "2183887  POLYGON ((2218822.028 10630262.110, 2228822.02...\n",
       "\n",
       "[2183888 rows x 1 columns]"
      ]
     },
     "execution_count": 6,
     "metadata": {},
     "output_type": "execute_result"
    }
   ],
   "source": [
    "xmin, ymin, xmax, ymax = atlantic.geometry[0].bounds\n",
    "\n",
    "# 10 x 10 km wide squares\n",
    "length = 10000\n",
    "wide = 10000\n",
    "\n",
    "cols = list(np.arange(xmin, xmax + wide, wide))\n",
    "rows = list(np.arange(ymin, ymax + length, length))\n",
    "\n",
    "\n",
    "polygons = []\n",
    "for x in cols[:-1]:\n",
    "    for y in rows[:-1]:\n",
    "        polygons.append(Polygon([(x,y), (x+wide, y), (x+wide, y+length), (x, y+length)]))\n",
    "\n",
    "grid = gp.GeoDataFrame({'geometry':polygons})\n",
    "grid"
   ]
  },
  {
   "cell_type": "code",
   "execution_count": 7,
   "id": "f9eb1fcc-aa5b-4fcf-a2c0-273d4aedd7d0",
   "metadata": {
    "tags": []
   },
   "outputs": [
    {
     "data": {
      "text/html": [
       "<div>\n",
       "<style scoped>\n",
       "    .dataframe tbody tr th:only-of-type {\n",
       "        vertical-align: middle;\n",
       "    }\n",
       "\n",
       "    .dataframe tbody tr th {\n",
       "        vertical-align: top;\n",
       "    }\n",
       "\n",
       "    .dataframe thead th {\n",
       "        text-align: right;\n",
       "    }\n",
       "</style>\n",
       "<table border=\"1\" class=\"dataframe\">\n",
       "  <thead>\n",
       "    <tr style=\"text-align: right;\">\n",
       "      <th></th>\n",
       "      <th>geometry</th>\n",
       "    </tr>\n",
       "  </thead>\n",
       "  <tbody>\n",
       "    <tr>\n",
       "      <th>947500</th>\n",
       "      <td>POLYGON ((-4271177.972 3720262.110, -4261177.9...</td>\n",
       "    </tr>\n",
       "    <tr>\n",
       "      <th>1422807</th>\n",
       "      <td>POLYGON ((-1771177.972 -3209737.890, -1761177....</td>\n",
       "    </tr>\n",
       "    <tr>\n",
       "      <th>1303702</th>\n",
       "      <td>POLYGON ((-2401177.972 5260262.110, -2391177.9...</td>\n",
       "    </tr>\n",
       "    <tr>\n",
       "      <th>613918</th>\n",
       "      <td>POLYGON ((-6021177.972 -99737.890, -6011177.97...</td>\n",
       "    </tr>\n",
       "    <tr>\n",
       "      <th>298751</th>\n",
       "      <td>POLYGON ((-7681177.972 8870262.110, -7671177.9...</td>\n",
       "    </tr>\n",
       "    <tr>\n",
       "      <th>...</th>\n",
       "      <td>...</td>\n",
       "    </tr>\n",
       "    <tr>\n",
       "      <th>1031540</th>\n",
       "      <td>POLYGON ((-3831177.972 6360262.110, -3821177.9...</td>\n",
       "    </tr>\n",
       "    <tr>\n",
       "      <th>920902</th>\n",
       "      <td>POLYGON ((-4411177.972 4300262.110, -4401177.9...</td>\n",
       "    </tr>\n",
       "    <tr>\n",
       "      <th>726220</th>\n",
       "      <td>POLYGON ((-5431177.972 -439737.890, -5421177.9...</td>\n",
       "    </tr>\n",
       "    <tr>\n",
       "      <th>1740689</th>\n",
       "      <td>POLYGON ((-101177.972 -4069737.890, -91177.972...</td>\n",
       "    </tr>\n",
       "    <tr>\n",
       "      <th>1991135</th>\n",
       "      <td>POLYGON ((1208822.028 6150262.110, 1218822.028...</td>\n",
       "    </tr>\n",
       "  </tbody>\n",
       "</table>\n",
       "<p>10000 rows × 1 columns</p>\n",
       "</div>"
      ],
      "text/plain": [
       "                                                  geometry\n",
       "947500   POLYGON ((-4271177.972 3720262.110, -4261177.9...\n",
       "1422807  POLYGON ((-1771177.972 -3209737.890, -1761177....\n",
       "1303702  POLYGON ((-2401177.972 5260262.110, -2391177.9...\n",
       "613918   POLYGON ((-6021177.972 -99737.890, -6011177.97...\n",
       "298751   POLYGON ((-7681177.972 8870262.110, -7671177.9...\n",
       "...                                                    ...\n",
       "1031540  POLYGON ((-3831177.972 6360262.110, -3821177.9...\n",
       "920902   POLYGON ((-4411177.972 4300262.110, -4401177.9...\n",
       "726220   POLYGON ((-5431177.972 -439737.890, -5421177.9...\n",
       "1740689  POLYGON ((-101177.972 -4069737.890, -91177.972...\n",
       "1991135  POLYGON ((1208822.028 6150262.110, 1218822.028...\n",
       "\n",
       "[10000 rows x 1 columns]"
      ]
     },
     "execution_count": 7,
     "metadata": {},
     "output_type": "execute_result"
    }
   ],
   "source": [
    "data_points = grid.sample(n=10000, random_state=1)\n",
    "data_points.crs = 3857\n",
    "data_points"
   ]
  },
  {
   "cell_type": "code",
   "execution_count": 1,
   "id": "7de638f2-c96e-424a-b1a2-7d3c71100ea4",
   "metadata": {},
   "outputs": [],
   "source": [
    "import ee\n",
    "\n",
    "# Trigger the authentication flow.\n",
    "#ee.Authenticate()\n",
    "\n",
    "# Initialize the library.\n",
    "ee.Initialize()"
   ]
  },
  {
   "cell_type": "code",
   "execution_count": 9,
   "id": "f92e041a-71ed-475c-a799-002305b0f212",
   "metadata": {},
   "outputs": [],
   "source": [
    "def extract_raster_values_from_df(df, image_collection, band_names, task_name, date, lookback_days=3, scale=5000, export=False):\n",
    "    df['ee_region'] = df.geometry.apply(lambda x: ee.Geometry.Polygon(list((x.exterior.coords)), proj='EPSG:4326'))\n",
    "    regionCollection = ee.List([])\n",
    "    emptyCol = ee.FeatureCollection(ee.Feature(None))\n",
    "    \n",
    "    # iterate through all entries\n",
    "    for row in df.itertuples():\n",
    "        # instantiate the image collection for the selected time series\n",
    "        collection = ee.ImageCollection(image_collection).filterDate((date - timedelta(days=lookback_days)).strftime('%Y-%m-%d'), date.strftime('%Y-%m-%d')).select(band_names)\n",
    "        \n",
    "        # get the raster information based on the buffer region we created\n",
    "        pixelInfoRegion = collection.getRegion(geometry=getattr(row, 'ee_region'), scale=scale)\n",
    "\n",
    "        # remove the first element, which is the header ['id', 'longitude', 'latitude', 'time', 'velocity_u_0', 'velocity_v_0']\n",
    "        pixelInfoRegion = pixelInfoRegion.remove(pixelInfoRegion.get(0))\n",
    "        # convert the 2d list of information to features. Going to hard code this part as I cba\n",
    "        def func(x):\n",
    "            x = ee.List(x)\n",
    "            feat = ee.Feature(ee.Geometry.Point([x.get(1), x.get(2)], proj='EPSG:4326'), {'time':x.get(3),'velocity_u_0':x.get(4),'velocity_v_0':x.get(5)})\n",
    "            return feat\n",
    "        col = ee.FeatureCollection(pixelInfoRegion.map(func))\n",
    "        # add the region that we created to the overall feature collection\n",
    "        \n",
    "        # ensure collection is not empty bands\n",
    "        regionCollection = regionCollection.add(ee.Algorithms.If(collection.size(), col, emptyCol))\n",
    "    \n",
    "    if export:\n",
    "        return ee.batch.Export.table.toDrive(collection=ee.FeatureCollection(regionCollection).flatten(), description=task_name, fileFormat=\"csv\", folder=\"exported_files\")\n",
    "    else:\n",
    "        return ee.FeatureCollection(regionCollection).flatten()"
   ]
  },
  {
   "cell_type": "markdown",
   "id": "e62a3d53-3517-4101-8106-1bde4e91aff3",
   "metadata": {},
   "source": [
    "Latest hycom date is 2022-09-12. Kernel keeps crashing when we task.start() for too many points."
   ]
  },
  {
   "cell_type": "code",
   "execution_count": 10,
   "id": "fa648bc1-1524-401e-bf8e-11e5edbf527f",
   "metadata": {},
   "outputs": [],
   "source": [
    "size = 500\n",
    "for i in range(0, 10000, size):\n",
    "    task_name = f\"atlantic_water_velocities_{i}\"\n",
    "    task = extract_raster_values_from_df(data_points.iloc[i:i+size].copy(), 'HYCOM/sea_water_velocity', ['velocity_u_0', 'velocity_v_0'], task_name, datetime(2022,9,12), export=True)\n",
    "    task.start()"
   ]
  }
 ],
 "metadata": {
  "kernelspec": {
   "display_name": "Python 3 (ipykernel)",
   "language": "python",
   "name": "python3"
  },
  "language_info": {
   "codemirror_mode": {
    "name": "ipython",
    "version": 3
   },
   "file_extension": ".py",
   "mimetype": "text/x-python",
   "name": "python",
   "nbconvert_exporter": "python",
   "pygments_lexer": "ipython3",
   "version": "3.9.12"
  }
 },
 "nbformat": 4,
 "nbformat_minor": 5
}
