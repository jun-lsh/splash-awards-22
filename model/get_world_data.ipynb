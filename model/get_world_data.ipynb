{
 "cells": [
  {
   "cell_type": "markdown",
   "id": "dc98d7ee-aab7-4695-9766-eccea15bb6d0",
   "metadata": {},
   "source": [
    "# Initialise paramters"
   ]
  },
  {
   "cell_type": "markdown",
   "id": "f30b150c-813b-41ee-bac9-69e924f95e9b",
   "metadata": {
    "pycharm": {
     "name": "#%% md\n"
    }
   },
   "source": [
    "Will have to manually authenticate ee."
   ]
  },
  {
   "cell_type": "code",
   "execution_count": 40,
   "id": "7de638f2-c96e-424a-b1a2-7d3c71100ea4",
   "metadata": {
    "pycharm": {
     "name": "#%%\n"
    }
   },
   "outputs": [],
   "source": [
    "import ee\n",
    "\n",
    "# Trigger the authentication flow.\n",
    "#ee.Authenticate()\n",
    "\n",
    "# Initialize the library.\n",
    "ee.Initialize()"
   ]
  },
  {
   "cell_type": "code",
   "execution_count": 17,
   "id": "5590ae14-5b06-43f6-821e-3375e83e63c0",
   "metadata": {
    "pycharm": {
     "name": "#%%\n"
    }
   },
   "outputs": [],
   "source": [
    "import geopandas as gp\n",
    "import pandas as pd\n",
    "import matplotlib.pyplot as plt\n",
    "import json\n",
    "import pickle\n",
    "import os.path\n",
    "\n",
    "from shapely.ops import unary_union\n",
    "from shapely.geometry import Polygon, shape, Point\n",
    "\n",
    "import numpy as np\n",
    "\n",
    "from datetime import timedelta, datetime\n",
    "\n",
    "from typing import Tuple\n",
    "\n",
    "import torch.nn as nn\n",
    "import torch\n",
    "\n",
    "from torch.utils.data import Subset\n",
    "\n",
    "from torch.utils.data import Dataset, DataLoader, random_split\n",
    "import numpy as np\n",
    "import time\n",
    "import matplotlib.pyplot as plt"
   ]
  },
  {
   "cell_type": "markdown",
   "id": "609c2563-bfe0-42e6-9b1b-8b0c45c64d95",
   "metadata": {
    "pycharm": {
     "name": "#%% md\n"
    }
   },
   "source": [
    "Parameters for automated run. Should be most recent date that HYCOM has data for. Check dataset availability [here](https://developers.google.com/earth-engine/datasets/catalog/HYCOM_sea_water_velocity). Usually it is 2 days behind."
   ]
  },
  {
   "cell_type": "code",
   "execution_count": 41,
   "id": "efa002c0-e33f-4c45-9a28-9b0c62975267",
   "metadata": {
    "pycharm": {
     "name": "#%%\n"
    }
   },
   "outputs": [],
   "source": [
    "# year, month, date\n",
    "date = datetime(2022,10,20)\n",
    "# time frame for the model\n",
    "timespan = 7\n",
    "# number of points to sample from the atlantic, and request api data for to predict\n",
    "sample_n = 10000\n",
    "# filepath of model to use for inference\n",
    "model_path = r\"model_checkpoints/GRU_epoch_1500_loss_3.401.pt\""
   ]
  },
  {
   "cell_type": "markdown",
   "id": "b543ff34-9afc-40f8-b987-374dbbc08c6e",
   "metadata": {},
   "source": [
    "# Get inference region points"
   ]
  },
  {
   "cell_type": "code",
   "execution_count": 6,
   "id": "3bfaa8d7-24eb-4d4f-8814-23370e98e1da",
   "metadata": {
    "pycharm": {
     "name": "#%%\n"
    }
   },
   "outputs": [
    {
     "data": {
      "text/html": [
       "<div>\n",
       "<style scoped>\n",
       "    .dataframe tbody tr th:only-of-type {\n",
       "        vertical-align: middle;\n",
       "    }\n",
       "\n",
       "    .dataframe tbody tr th {\n",
       "        vertical-align: top;\n",
       "    }\n",
       "\n",
       "    .dataframe thead th {\n",
       "        text-align: right;\n",
       "    }\n",
       "</style>\n",
       "<table border=\"1\" class=\"dataframe\">\n",
       "  <thead>\n",
       "    <tr style=\"text-align: right;\">\n",
       "      <th></th>\n",
       "      <th>name</th>\n",
       "      <th>id</th>\n",
       "      <th>longitude</th>\n",
       "      <th>latitude</th>\n",
       "      <th>min_x</th>\n",
       "      <th>min_y</th>\n",
       "      <th>max_x</th>\n",
       "      <th>max_y</th>\n",
       "      <th>area</th>\n",
       "      <th>mrgid</th>\n",
       "      <th>geometry</th>\n",
       "    </tr>\n",
       "  </thead>\n",
       "  <tbody>\n",
       "    <tr>\n",
       "      <th>7</th>\n",
       "      <td>South Atlantic Ocean</td>\n",
       "      <td>32</td>\n",
       "      <td>-18.808767</td>\n",
       "      <td>-33.732396</td>\n",
       "      <td>-69.600837</td>\n",
       "      <td>-60.000000</td>\n",
       "      <td>20.009049</td>\n",
       "      <td>0.075106</td>\n",
       "      <td>40501812.0</td>\n",
       "      <td>1914</td>\n",
       "      <td>POLYGON ((8.97417 -0.93603, 8.97515 -0.93592, ...</td>\n",
       "    </tr>\n",
       "    <tr>\n",
       "      <th>9</th>\n",
       "      <td>North Atlantic Ocean</td>\n",
       "      <td>23</td>\n",
       "      <td>-37.624244</td>\n",
       "      <td>29.480034</td>\n",
       "      <td>-83.014914</td>\n",
       "      <td>-0.002563</td>\n",
       "      <td>6.619967</td>\n",
       "      <td>68.638716</td>\n",
       "      <td>34507128.0</td>\n",
       "      <td>1912</td>\n",
       "      <td>POLYGON ((-6.26384 62.34582, -6.17706 62.32412...</td>\n",
       "    </tr>\n",
       "  </tbody>\n",
       "</table>\n",
       "</div>"
      ],
      "text/plain": [
       "                   name  id  longitude   latitude      min_x      min_y  \\\n",
       "7  South Atlantic Ocean  32 -18.808767 -33.732396 -69.600837 -60.000000   \n",
       "9  North Atlantic Ocean  23 -37.624244  29.480034 -83.014914  -0.002563   \n",
       "\n",
       "       max_x      max_y        area  mrgid  \\\n",
       "7  20.009049   0.075106  40501812.0   1914   \n",
       "9   6.619967  68.638716  34507128.0   1912   \n",
       "\n",
       "                                            geometry  \n",
       "7  POLYGON ((8.97417 -0.93603, 8.97515 -0.93592, ...  \n",
       "9  POLYGON ((-6.26384 62.34582, -6.17706 62.32412...  "
      ]
     },
     "execution_count": 6,
     "metadata": {},
     "output_type": "execute_result"
    }
   ],
   "source": [
    "tes = gp.read_file(r'data\\iho\\iho.shp')\n",
    "df = tes.loc[tes.name.isin(['South Atlantic Ocean', 'North Atlantic Ocean'])]\n",
    "df"
   ]
  },
  {
   "cell_type": "code",
   "execution_count": 7,
   "id": "19064389-8198-4233-a57b-5f74c4fd595b",
   "metadata": {
    "pycharm": {
     "name": "#%%\n"
    }
   },
   "outputs": [
    {
     "data": {
      "text/plain": [
       "<AxesSubplot:>"
      ]
     },
     "execution_count": 7,
     "metadata": {},
     "output_type": "execute_result"
    },
    {
     "data": {
      "image/png": "[encoded data removed]",
      "text/plain": [
       "<Figure size 640x480 with 1 Axes>"
      ]
     },
     "metadata": {},
     "output_type": "display_data"
    }
   ],
   "source": [
    "atlantic = df.dissolve().to_crs(epsg=3857)\n",
    "atlantic.plot()"
   ]
  },
  {
   "cell_type": "code",
   "execution_count": 8,
   "id": "1c32b27f-4b2a-4336-9752-992febbfe6da",
   "metadata": {
    "pycharm": {
     "name": "#%%\n"
    }
   },
   "outputs": [
    {
     "data": {
      "text/plain": [
       "(-9241177.971966805,\n",
       " -8399737.889818331,\n",
       " 2227397.1613292582,\n",
       " 10639472.197641218)"
      ]
     },
     "execution_count": 8,
     "metadata": {},
     "output_type": "execute_result"
    }
   ],
   "source": [
    "atlantic.geometry[0].bounds"
   ]
  },
  {
   "cell_type": "markdown",
   "id": "356b37ee-ea66-49ab-9396-ec8828cf5a71",
   "metadata": {},
   "source": [
    "There does not exist inbuilt library methods to sample points within a geometry, especially not rectangular points. Using shapely's .contains() method to check if a point is in the atlantic takes a full second because the atlantic shape has a huge number of vertices. The fastest method is to filter the points using a spatial join with the points as the main table. Joining with the atlantic as the main table is pretty slow. We use a right join and then drop all NAs which are points not inside the atlantic region. We repeat this a multitude of times until we get a number of points that satisfies the requested number."
   ]
  },
  {
   "cell_type": "code",
   "execution_count": 36,
   "id": "7981263c-422d-4521-bd9f-1bfff734266e",
   "metadata": {
    "pycharm": {
     "name": "#%%\n"
    },
    "tags": []
   },
   "outputs": [
    {
     "data": {
      "text/html": [
       "<div>\n",
       "<style scoped>\n",
       "    .dataframe tbody tr th:only-of-type {\n",
       "        vertical-align: middle;\n",
       "    }\n",
       "\n",
       "    .dataframe tbody tr th {\n",
       "        vertical-align: top;\n",
       "    }\n",
       "\n",
       "    .dataframe thead th {\n",
       "        text-align: right;\n",
       "    }\n",
       "</style>\n",
       "<table border=\"1\" class=\"dataframe\">\n",
       "  <thead>\n",
       "    <tr style=\"text-align: right;\">\n",
       "      <th></th>\n",
       "      <th>index_left</th>\n",
       "      <th>name</th>\n",
       "      <th>id</th>\n",
       "      <th>longitude</th>\n",
       "      <th>latitude</th>\n",
       "      <th>min_x</th>\n",
       "      <th>min_y</th>\n",
       "      <th>max_x</th>\n",
       "      <th>max_y</th>\n",
       "      <th>area</th>\n",
       "      <th>mrgid</th>\n",
       "      <th>0</th>\n",
       "    </tr>\n",
       "  </thead>\n",
       "  <tbody>\n",
       "    <tr>\n",
       "      <th>3</th>\n",
       "      <td>0.0</td>\n",
       "      <td>South Atlantic Ocean</td>\n",
       "      <td>32</td>\n",
       "      <td>-18.808767</td>\n",
       "      <td>-33.732396</td>\n",
       "      <td>-69.600837</td>\n",
       "      <td>-60.0</td>\n",
       "      <td>20.009049</td>\n",
       "      <td>0.075106</td>\n",
       "      <td>40501812.0</td>\n",
       "      <td>1914.0</td>\n",
       "      <td>POLYGON ((-4409769.411 -8057203.776, -4399769....</td>\n",
       "    </tr>\n",
       "    <tr>\n",
       "      <th>5</th>\n",
       "      <td>0.0</td>\n",
       "      <td>South Atlantic Ocean</td>\n",
       "      <td>32</td>\n",
       "      <td>-18.808767</td>\n",
       "      <td>-33.732396</td>\n",
       "      <td>-69.600837</td>\n",
       "      <td>-60.0</td>\n",
       "      <td>20.009049</td>\n",
       "      <td>0.075106</td>\n",
       "      <td>40501812.0</td>\n",
       "      <td>1914.0</td>\n",
       "      <td>POLYGON ((-4822100.275 5822058.333, -4812100.2...</td>\n",
       "    </tr>\n",
       "    <tr>\n",
       "      <th>6</th>\n",
       "      <td>0.0</td>\n",
       "      <td>South Atlantic Ocean</td>\n",
       "      <td>32</td>\n",
       "      <td>-18.808767</td>\n",
       "      <td>-33.732396</td>\n",
       "      <td>-69.600837</td>\n",
       "      <td>-60.0</td>\n",
       "      <td>20.009049</td>\n",
       "      <td>0.075106</td>\n",
       "      <td>40501812.0</td>\n",
       "      <td>1914.0</td>\n",
       "      <td>POLYGON ((-7536648.395 4413796.076, -7526648.3...</td>\n",
       "    </tr>\n",
       "    <tr>\n",
       "      <th>7</th>\n",
       "      <td>0.0</td>\n",
       "      <td>South Atlantic Ocean</td>\n",
       "      <td>32</td>\n",
       "      <td>-18.808767</td>\n",
       "      <td>-33.732396</td>\n",
       "      <td>-69.600837</td>\n",
       "      <td>-60.0</td>\n",
       "      <td>20.009049</td>\n",
       "      <td>0.075106</td>\n",
       "      <td>40501812.0</td>\n",
       "      <td>1914.0</td>\n",
       "      <td>POLYGON ((-1158582.847 -3140553.221, -1148582....</td>\n",
       "    </tr>\n",
       "    <tr>\n",
       "      <th>8</th>\n",
       "      <td>0.0</td>\n",
       "      <td>South Atlantic Ocean</td>\n",
       "      <td>32</td>\n",
       "      <td>-18.808767</td>\n",
       "      <td>-33.732396</td>\n",
       "      <td>-69.600837</td>\n",
       "      <td>-60.0</td>\n",
       "      <td>20.009049</td>\n",
       "      <td>0.075106</td>\n",
       "      <td>40501812.0</td>\n",
       "      <td>1914.0</td>\n",
       "      <td>POLYGON ((-2999474.096 3657267.009, -2989474.0...</td>\n",
       "    </tr>\n",
       "    <tr>\n",
       "      <th>...</th>\n",
       "      <td>...</td>\n",
       "      <td>...</td>\n",
       "      <td>...</td>\n",
       "      <td>...</td>\n",
       "      <td>...</td>\n",
       "      <td>...</td>\n",
       "      <td>...</td>\n",
       "      <td>...</td>\n",
       "      <td>...</td>\n",
       "      <td>...</td>\n",
       "      <td>...</td>\n",
       "      <td>...</td>\n",
       "    </tr>\n",
       "    <tr>\n",
       "      <th>17857</th>\n",
       "      <td>0.0</td>\n",
       "      <td>South Atlantic Ocean</td>\n",
       "      <td>32</td>\n",
       "      <td>-18.808767</td>\n",
       "      <td>-33.732396</td>\n",
       "      <td>-69.600837</td>\n",
       "      <td>-60.0</td>\n",
       "      <td>20.009049</td>\n",
       "      <td>0.075106</td>\n",
       "      <td>40501812.0</td>\n",
       "      <td>1914.0</td>\n",
       "      <td>POLYGON ((-631690.433 -6417164.416, -621690.43...</td>\n",
       "    </tr>\n",
       "    <tr>\n",
       "      <th>17858</th>\n",
       "      <td>0.0</td>\n",
       "      <td>South Atlantic Ocean</td>\n",
       "      <td>32</td>\n",
       "      <td>-18.808767</td>\n",
       "      <td>-33.732396</td>\n",
       "      <td>-69.600837</td>\n",
       "      <td>-60.0</td>\n",
       "      <td>20.009049</td>\n",
       "      <td>0.075106</td>\n",
       "      <td>40501812.0</td>\n",
       "      <td>1914.0</td>\n",
       "      <td>POLYGON ((-2976471.824 6327900.408, -2966471.8...</td>\n",
       "    </tr>\n",
       "    <tr>\n",
       "      <th>17859</th>\n",
       "      <td>0.0</td>\n",
       "      <td>South Atlantic Ocean</td>\n",
       "      <td>32</td>\n",
       "      <td>-18.808767</td>\n",
       "      <td>-33.732396</td>\n",
       "      <td>-69.600837</td>\n",
       "      <td>-60.0</td>\n",
       "      <td>20.009049</td>\n",
       "      <td>0.075106</td>\n",
       "      <td>40501812.0</td>\n",
       "      <td>1914.0</td>\n",
       "      <td>POLYGON ((-6980251.008 -6234865.654, -6970251....</td>\n",
       "    </tr>\n",
       "    <tr>\n",
       "      <th>17862</th>\n",
       "      <td>0.0</td>\n",
       "      <td>South Atlantic Ocean</td>\n",
       "      <td>32</td>\n",
       "      <td>-18.808767</td>\n",
       "      <td>-33.732396</td>\n",
       "      <td>-69.600837</td>\n",
       "      <td>-60.0</td>\n",
       "      <td>20.009049</td>\n",
       "      <td>0.075106</td>\n",
       "      <td>40501812.0</td>\n",
       "      <td>1914.0</td>\n",
       "      <td>POLYGON ((334860.528 -334353.703, 344860.528 -...</td>\n",
       "    </tr>\n",
       "    <tr>\n",
       "      <th>17863</th>\n",
       "      <td>0.0</td>\n",
       "      <td>South Atlantic Ocean</td>\n",
       "      <td>32</td>\n",
       "      <td>-18.808767</td>\n",
       "      <td>-33.732396</td>\n",
       "      <td>-69.600837</td>\n",
       "      <td>-60.0</td>\n",
       "      <td>20.009049</td>\n",
       "      <td>0.075106</td>\n",
       "      <td>40501812.0</td>\n",
       "      <td>1914.0</td>\n",
       "      <td>POLYGON ((-3601845.119 -1722387.495, -3591845....</td>\n",
       "    </tr>\n",
       "  </tbody>\n",
       "</table>\n",
       "<p>10000 rows × 12 columns</p>\n",
       "</div>"
      ],
      "text/plain": [
       "       index_left                  name  id  longitude   latitude      min_x  \\\n",
       "3             0.0  South Atlantic Ocean  32 -18.808767 -33.732396 -69.600837   \n",
       "5             0.0  South Atlantic Ocean  32 -18.808767 -33.732396 -69.600837   \n",
       "6             0.0  South Atlantic Ocean  32 -18.808767 -33.732396 -69.600837   \n",
       "7             0.0  South Atlantic Ocean  32 -18.808767 -33.732396 -69.600837   \n",
       "8             0.0  South Atlantic Ocean  32 -18.808767 -33.732396 -69.600837   \n",
       "...           ...                   ...  ..        ...        ...        ...   \n",
       "17857         0.0  South Atlantic Ocean  32 -18.808767 -33.732396 -69.600837   \n",
       "17858         0.0  South Atlantic Ocean  32 -18.808767 -33.732396 -69.600837   \n",
       "17859         0.0  South Atlantic Ocean  32 -18.808767 -33.732396 -69.600837   \n",
       "17862         0.0  South Atlantic Ocean  32 -18.808767 -33.732396 -69.600837   \n",
       "17863         0.0  South Atlantic Ocean  32 -18.808767 -33.732396 -69.600837   \n",
       "\n",
       "       min_y      max_x     max_y        area   mrgid  \\\n",
       "3      -60.0  20.009049  0.075106  40501812.0  1914.0   \n",
       "5      -60.0  20.009049  0.075106  40501812.0  1914.0   \n",
       "6      -60.0  20.009049  0.075106  40501812.0  1914.0   \n",
       "7      -60.0  20.009049  0.075106  40501812.0  1914.0   \n",
       "8      -60.0  20.009049  0.075106  40501812.0  1914.0   \n",
       "...      ...        ...       ...         ...     ...   \n",
       "17857  -60.0  20.009049  0.075106  40501812.0  1914.0   \n",
       "17858  -60.0  20.009049  0.075106  40501812.0  1914.0   \n",
       "17859  -60.0  20.009049  0.075106  40501812.0  1914.0   \n",
       "17862  -60.0  20.009049  0.075106  40501812.0  1914.0   \n",
       "17863  -60.0  20.009049  0.075106  40501812.0  1914.0   \n",
       "\n",
       "                                                       0  \n",
       "3      POLYGON ((-4409769.411 -8057203.776, -4399769....  \n",
       "5      POLYGON ((-4822100.275 5822058.333, -4812100.2...  \n",
       "6      POLYGON ((-7536648.395 4413796.076, -7526648.3...  \n",
       "7      POLYGON ((-1158582.847 -3140553.221, -1148582....  \n",
       "8      POLYGON ((-2999474.096 3657267.009, -2989474.0...  \n",
       "...                                                  ...  \n",
       "17857  POLYGON ((-631690.433 -6417164.416, -621690.43...  \n",
       "17858  POLYGON ((-2976471.824 6327900.408, -2966471.8...  \n",
       "17859  POLYGON ((-6980251.008 -6234865.654, -6970251....  \n",
       "17862  POLYGON ((334860.528 -334353.703, 344860.528 -...  \n",
       "17863  POLYGON ((-3601845.119 -1722387.495, -3591845....  \n",
       "\n",
       "[10000 rows x 12 columns]"
      ]
     },
     "execution_count": 36,
     "metadata": {},
     "output_type": "execute_result"
    }
   ],
   "source": [
    "# 10 x 10 km wide squares\n",
    "length = 10000\n",
    "wide = 10000\n",
    "\n",
    "def random_rects_in_polygon(number, polygon):\n",
    "    regions = []\n",
    "    regions_gpd = gp.GeoDataFrame()\n",
    "    min_x, min_y, max_x, max_y = polygon.bounds\n",
    "    while regions_gpd.shape[0] < number:\n",
    "        for j in range(5000):\n",
    "            x, y = np.random.uniform(min_x, max_x), np.random.uniform(min_y, max_y)\n",
    "            rect = Polygon([(x,y), (x+wide, y), (x+wide, y+length), (x, y+length)])\n",
    "            regions.append(rect)\n",
    "        regions_gpd = gp.sjoin(atlantic, gp.GeoDataFrame(regions, geometry=0, crs='epsg:3857'), how='right').dropna()\n",
    "    return regions_gpd.iloc[:sample_n]\n",
    "\n",
    "data_points = random_rects_in_polygon(sample_n, atlantic.geometry[0])\n",
    "data_points"
   ]
  },
  {
   "cell_type": "code",
   "execution_count": 37,
   "id": "7b20eaab-d9a6-4e56-96d9-705caec8468c",
   "metadata": {},
   "outputs": [
    {
     "data": {
      "text/plain": [
       "<AxesSubplot:>"
      ]
     },
     "execution_count": 37,
     "metadata": {},
     "output_type": "execute_result"
    },
    {
     "data": {
      "image/png": "[encoded data removed]",
      "text/plain": [
       "<Figure size 640x480 with 1 Axes>"
      ]
     },
     "metadata": {},
     "output_type": "display_data"
    }
   ],
   "source": [
    "data_points.plot()"
   ]
  },
  {
   "cell_type": "markdown",
   "id": "fa9a34d9-5fc9-4629-809f-253e1605993a",
   "metadata": {},
   "source": [
    "# Request data from API"
   ]
  },
  {
   "cell_type": "code",
   "execution_count": 38,
   "id": "f92e041a-71ed-475c-a799-002305b0f212",
   "metadata": {
    "pycharm": {
     "name": "#%%\n"
    }
   },
   "outputs": [],
   "source": [
    "def extract_raster_values_from_df(df, image_collection, band_names, task_name, date, folder=\"exported_files\", lookback_days=3, scale=5000, export=False):\n",
    "    df['ee_region'] = df.geometry.apply(lambda x: ee.Geometry.Polygon(list((x.exterior.coords)), proj='EPSG:3857'))\n",
    "    regionCollection = ee.List([])\n",
    "    emptyCol = ee.FeatureCollection(ee.Feature(None))\n",
    "    \n",
    "    # iterate through all entries\n",
    "    for row in df.itertuples():\n",
    "        # instantiate the image collection for the selected time series\n",
    "        collection = ee.ImageCollection(image_collection).filterDate((date - timedelta(days=lookback_days)).strftime('%Y-%m-%d'), date.strftime('%Y-%m-%d')).select(band_names)\n",
    "        \n",
    "        # get the raster information based on the buffer region we created\n",
    "        pixelInfoRegion = collection.getRegion(geometry=getattr(row, 'ee_region'), scale=scale)\n",
    "\n",
    "        # remove the first element, which is the header ['id', 'longitude', 'latitude', 'time', 'velocity_u_0', 'velocity_v_0']\n",
    "        pixelInfoRegion = pixelInfoRegion.remove(pixelInfoRegion.get(0))\n",
    "        # convert the 2d list of information to features. Going to hard code this part as I cba\n",
    "        def func(x):\n",
    "            x = ee.List(x)\n",
    "            feat = ee.Feature(ee.Geometry.Point([x.get(1), x.get(2)], proj='EPSG:4326'), {'time':x.get(3),'velocity_u_0':x.get(4),'velocity_v_0':x.get(5)})\n",
    "            return feat\n",
    "        col = ee.FeatureCollection(pixelInfoRegion.map(func))\n",
    "        # add the region that we created to the overall feature collection\n",
    "        \n",
    "        # ensure collection is not empty bands\n",
    "        regionCollection = regionCollection.add(ee.Algorithms.If(collection.size(), col, emptyCol))\n",
    "    \n",
    "    if export:\n",
    "        return ee.batch.Export.table.toDrive(collection=ee.FeatureCollection(regionCollection).flatten(), description=task_name, fileFormat=\"csv\", folder=folder)\n",
    "    else:\n",
    "        return ee.FeatureCollection(regionCollection).flatten()"
   ]
  },
  {
   "cell_type": "markdown",
   "id": "e62a3d53-3517-4101-8106-1bde4e91aff3",
   "metadata": {
    "pycharm": {
     "name": "#%% md\n"
    }
   },
   "source": [
    "Kernel keeps crashing when we task.start() for too many points."
   ]
  },
  {
   "cell_type": "code",
   "execution_count": null,
   "id": "fa648bc1-1524-401e-bf8e-11e5edbf527f",
   "metadata": {
    "pycharm": {
     "name": "#%%\n"
    },
    "tags": []
   },
   "outputs": [],
   "source": [
    "size = 500\n",
    "for i in range(0, sample_n, size):\n",
    "    task_name = f\"atlantic_water_velocities_{i}\"\n",
    "    task = extract_raster_values_from_df(data_points.iloc[i:i+size].copy(), 'HYCOM/sea_water_velocity', ['velocity_u_0', 'velocity_v_0'], task_name, date, folder=f\"exported_files/{date.strftime('%d.%m.%Y')}\", lookback_days=timespan, export=True)\n",
    "    task.start()"
   ]
  },
  {
   "cell_type": "markdown",
   "id": "9615aae7-da66-41e7-9d99-84574a2182d8",
   "metadata": {
    "pycharm": {
     "name": "#%% md\n"
    }
   },
   "source": [
    "Assert that exported data is in the directory for use. If not, manually copy them over :)"
   ]
  },
  {
   "cell_type": "code",
   "execution_count": 49,
   "id": "3f0517a3-e179-4d54-b996-b8c2b9b20146",
   "metadata": {
    "pycharm": {
     "name": "#%%\n"
    }
   },
   "outputs": [],
   "source": [
    "assert os.path.isfile(f\"data/data_files/{date.strftime('%d.%m.%Y')}/atlantic_water_velocities_0.csv\") "
   ]
  },
  {
   "cell_type": "code",
   "execution_count": 30,
   "id": "3c263c20-2c48-495b-a83a-611737812b63",
   "metadata": {
    "pycharm": {
     "name": "#%%\n"
    }
   },
   "outputs": [
    {
     "data": {
      "text/html": [
       "<div>\n",
       "<style scoped>\n",
       "    .dataframe tbody tr th:only-of-type {\n",
       "        vertical-align: middle;\n",
       "    }\n",
       "\n",
       "    .dataframe tbody tr th {\n",
       "        vertical-align: top;\n",
       "    }\n",
       "\n",
       "    .dataframe thead th {\n",
       "        text-align: right;\n",
       "    }\n",
       "</style>\n",
       "<table border=\"1\" class=\"dataframe\">\n",
       "  <thead>\n",
       "    <tr style=\"text-align: right;\">\n",
       "      <th></th>\n",
       "      <th>time</th>\n",
       "      <th>velocity_u_0</th>\n",
       "      <th>velocity_v_0</th>\n",
       "      <th>.geo</th>\n",
       "      <th>cluster</th>\n",
       "      <th>index</th>\n",
       "    </tr>\n",
       "  </thead>\n",
       "  <tbody>\n",
       "    <tr>\n",
       "      <th>0</th>\n",
       "      <td>1.665360e+12</td>\n",
       "      <td>-305.0</td>\n",
       "      <td>-7.0</td>\n",
       "      <td>{\"type\":\"Point\",\"coordinates\":[-38.33560474980...</td>\n",
       "      <td>0</td>\n",
       "      <td>0</td>\n",
       "    </tr>\n",
       "    <tr>\n",
       "      <th>1</th>\n",
       "      <td>1.665371e+12</td>\n",
       "      <td>-280.0</td>\n",
       "      <td>50.0</td>\n",
       "      <td>{\"type\":\"Point\",\"coordinates\":[-38.33560474980...</td>\n",
       "      <td>0</td>\n",
       "      <td>1</td>\n",
       "    </tr>\n",
       "    <tr>\n",
       "      <th>2</th>\n",
       "      <td>1.665382e+12</td>\n",
       "      <td>-226.0</td>\n",
       "      <td>62.0</td>\n",
       "      <td>{\"type\":\"Point\",\"coordinates\":[-38.33560474980...</td>\n",
       "      <td>0</td>\n",
       "      <td>2</td>\n",
       "    </tr>\n",
       "    <tr>\n",
       "      <th>3</th>\n",
       "      <td>1.665392e+12</td>\n",
       "      <td>-194.0</td>\n",
       "      <td>-4.0</td>\n",
       "      <td>{\"type\":\"Point\",\"coordinates\":[-38.33560474980...</td>\n",
       "      <td>0</td>\n",
       "      <td>3</td>\n",
       "    </tr>\n",
       "    <tr>\n",
       "      <th>4</th>\n",
       "      <td>1.665403e+12</td>\n",
       "      <td>-175.0</td>\n",
       "      <td>47.0</td>\n",
       "      <td>{\"type\":\"Point\",\"coordinates\":[-38.33560474980...</td>\n",
       "      <td>0</td>\n",
       "      <td>4</td>\n",
       "    </tr>\n",
       "    <tr>\n",
       "      <th>...</th>\n",
       "      <td>...</td>\n",
       "      <td>...</td>\n",
       "      <td>...</td>\n",
       "      <td>...</td>\n",
       "      <td>...</td>\n",
       "      <td>...</td>\n",
       "    </tr>\n",
       "    <tr>\n",
       "      <th>83265</th>\n",
       "      <td>1.665911e+12</td>\n",
       "      <td>NaN</td>\n",
       "      <td>NaN</td>\n",
       "      <td>{\"type\":\"Point\",\"coordinates\":[10.936988584155...</td>\n",
       "      <td>9999</td>\n",
       "      <td>215</td>\n",
       "    </tr>\n",
       "    <tr>\n",
       "      <th>83266</th>\n",
       "      <td>1.665922e+12</td>\n",
       "      <td>NaN</td>\n",
       "      <td>NaN</td>\n",
       "      <td>{\"type\":\"Point\",\"coordinates\":[10.936988584155...</td>\n",
       "      <td>9999</td>\n",
       "      <td>216</td>\n",
       "    </tr>\n",
       "    <tr>\n",
       "      <th>83267</th>\n",
       "      <td>1.665932e+12</td>\n",
       "      <td>NaN</td>\n",
       "      <td>NaN</td>\n",
       "      <td>{\"type\":\"Point\",\"coordinates\":[10.936988584155...</td>\n",
       "      <td>9999</td>\n",
       "      <td>217</td>\n",
       "    </tr>\n",
       "    <tr>\n",
       "      <th>83268</th>\n",
       "      <td>1.665943e+12</td>\n",
       "      <td>NaN</td>\n",
       "      <td>NaN</td>\n",
       "      <td>{\"type\":\"Point\",\"coordinates\":[10.936988584155...</td>\n",
       "      <td>9999</td>\n",
       "      <td>218</td>\n",
       "    </tr>\n",
       "    <tr>\n",
       "      <th>83269</th>\n",
       "      <td>1.665954e+12</td>\n",
       "      <td>NaN</td>\n",
       "      <td>NaN</td>\n",
       "      <td>{\"type\":\"Point\",\"coordinates\":[10.936988584155...</td>\n",
       "      <td>9999</td>\n",
       "      <td>219</td>\n",
       "    </tr>\n",
       "  </tbody>\n",
       "</table>\n",
       "<p>1658470 rows × 6 columns</p>\n",
       "</div>"
      ],
      "text/plain": [
       "               time  velocity_u_0  velocity_v_0  \\\n",
       "0      1.665360e+12        -305.0          -7.0   \n",
       "1      1.665371e+12        -280.0          50.0   \n",
       "2      1.665382e+12        -226.0          62.0   \n",
       "3      1.665392e+12        -194.0          -4.0   \n",
       "4      1.665403e+12        -175.0          47.0   \n",
       "...             ...           ...           ...   \n",
       "83265  1.665911e+12           NaN           NaN   \n",
       "83266  1.665922e+12           NaN           NaN   \n",
       "83267  1.665932e+12           NaN           NaN   \n",
       "83268  1.665943e+12           NaN           NaN   \n",
       "83269  1.665954e+12           NaN           NaN   \n",
       "\n",
       "                                                    .geo  cluster index  \n",
       "0      {\"type\":\"Point\",\"coordinates\":[-38.33560474980...        0     0  \n",
       "1      {\"type\":\"Point\",\"coordinates\":[-38.33560474980...        0     1  \n",
       "2      {\"type\":\"Point\",\"coordinates\":[-38.33560474980...        0     2  \n",
       "3      {\"type\":\"Point\",\"coordinates\":[-38.33560474980...        0     3  \n",
       "4      {\"type\":\"Point\",\"coordinates\":[-38.33560474980...        0     4  \n",
       "...                                                  ...      ...   ...  \n",
       "83265  {\"type\":\"Point\",\"coordinates\":[10.936988584155...     9999   215  \n",
       "83266  {\"type\":\"Point\",\"coordinates\":[10.936988584155...     9999   216  \n",
       "83267  {\"type\":\"Point\",\"coordinates\":[10.936988584155...     9999   217  \n",
       "83268  {\"type\":\"Point\",\"coordinates\":[10.936988584155...     9999   218  \n",
       "83269  {\"type\":\"Point\",\"coordinates\":[10.936988584155...     9999   219  \n",
       "\n",
       "[1658470 rows x 6 columns]"
      ]
     },
     "execution_count": 30,
     "metadata": {},
     "output_type": "execute_result"
    }
   ],
   "source": [
    "size = 500\n",
    "df_list = []\n",
    "for i in range(0, sample_n, size):\n",
    "    sub_df = pd.read_csv(f\"data/data_files/{date.strftime('%d.%m.%Y')}/atlantic_water_velocities_{i}.csv\")\n",
    "    \n",
    "    water_idx = sub_df['system:index'].str.split('_', expand=True)\n",
    "    water_idx = water_idx.rename(columns={0:'cluster', 1:'index'})\n",
    "    water_idx['cluster'] = water_idx['cluster'].astype(int) + i\n",
    "    \n",
    "    sub_df = sub_df.join(water_idx).drop(columns=['system:index'])\n",
    "    \n",
    "    df_list.append(sub_df)\n",
    "    \n",
    "water_df = pd.concat(df_list, axis=0)\n",
    "water_df"
   ]
  },
  {
   "cell_type": "code",
   "execution_count": 31,
   "id": "dccb79f6-1c45-4fd2-9ebb-76407082c11d",
   "metadata": {},
   "outputs": [
    {
     "data": {
      "text/plain": [
       "894300"
      ]
     },
     "execution_count": 31,
     "metadata": {},
     "output_type": "execute_result"
    }
   ],
   "source": [
    "water_df.isna().any(axis=1).sum()"
   ]
  },
  {
   "cell_type": "markdown",
   "id": "07f7d643-1e08-438f-8b82-282cd16fc6fd",
   "metadata": {
    "pycharm": {
     "name": "#%% md\n"
    }
   },
   "source": [
    "Some clusters will be NaN values, remove those."
   ]
  },
  {
   "cell_type": "code",
   "execution_count": 28,
   "id": "cbadc60c-84b9-4c4b-bece-4cf7b1131791",
   "metadata": {
    "pycharm": {
     "name": "#%%\n"
    }
   },
   "outputs": [
    {
     "data": {
      "text/html": [
       "<div>\n",
       "<style scoped>\n",
       "    .dataframe tbody tr th:only-of-type {\n",
       "        vertical-align: middle;\n",
       "    }\n",
       "\n",
       "    .dataframe tbody tr th {\n",
       "        vertical-align: top;\n",
       "    }\n",
       "\n",
       "    .dataframe thead th {\n",
       "        text-align: right;\n",
       "    }\n",
       "</style>\n",
       "<table border=\"1\" class=\"dataframe\">\n",
       "  <thead>\n",
       "    <tr style=\"text-align: right;\">\n",
       "      <th></th>\n",
       "      <th></th>\n",
       "      <th>time</th>\n",
       "      <th>velocity_u_0</th>\n",
       "      <th>velocity_v_0</th>\n",
       "      <th>.geo</th>\n",
       "    </tr>\n",
       "    <tr>\n",
       "      <th>cluster</th>\n",
       "      <th>index</th>\n",
       "      <th></th>\n",
       "      <th></th>\n",
       "      <th></th>\n",
       "      <th></th>\n",
       "    </tr>\n",
       "  </thead>\n",
       "  <tbody>\n",
       "    <tr>\n",
       "      <th rowspan=\"5\" valign=\"top\">0</th>\n",
       "      <th>0</th>\n",
       "      <td>1.665360e+12</td>\n",
       "      <td>-305.0</td>\n",
       "      <td>-7.0</td>\n",
       "      <td>POINT (-38.33560 31.68807)</td>\n",
       "    </tr>\n",
       "    <tr>\n",
       "      <th>1</th>\n",
       "      <td>1.665371e+12</td>\n",
       "      <td>-280.0</td>\n",
       "      <td>50.0</td>\n",
       "      <td>POINT (-38.33560 31.68807)</td>\n",
       "    </tr>\n",
       "    <tr>\n",
       "      <th>2</th>\n",
       "      <td>1.665382e+12</td>\n",
       "      <td>-226.0</td>\n",
       "      <td>62.0</td>\n",
       "      <td>POINT (-38.33560 31.68807)</td>\n",
       "    </tr>\n",
       "    <tr>\n",
       "      <th>3</th>\n",
       "      <td>1.665392e+12</td>\n",
       "      <td>-194.0</td>\n",
       "      <td>-4.0</td>\n",
       "      <td>POINT (-38.33560 31.68807)</td>\n",
       "    </tr>\n",
       "    <tr>\n",
       "      <th>4</th>\n",
       "      <td>1.665403e+12</td>\n",
       "      <td>-175.0</td>\n",
       "      <td>47.0</td>\n",
       "      <td>POINT (-38.33560 31.68807)</td>\n",
       "    </tr>\n",
       "    <tr>\n",
       "      <th>...</th>\n",
       "      <th>...</th>\n",
       "      <td>...</td>\n",
       "      <td>...</td>\n",
       "      <td>...</td>\n",
       "      <td>...</td>\n",
       "    </tr>\n",
       "    <tr>\n",
       "      <th rowspan=\"5\" valign=\"top\">4633</th>\n",
       "      <th>215</th>\n",
       "      <td>1.665911e+12</td>\n",
       "      <td>329.0</td>\n",
       "      <td>-187.0</td>\n",
       "      <td>POINT (7.52339 -3.07673)</td>\n",
       "    </tr>\n",
       "    <tr>\n",
       "      <th>216</th>\n",
       "      <td>1.665922e+12</td>\n",
       "      <td>347.0</td>\n",
       "      <td>-165.0</td>\n",
       "      <td>POINT (7.52339 -3.07673)</td>\n",
       "    </tr>\n",
       "    <tr>\n",
       "      <th>217</th>\n",
       "      <td>1.665932e+12</td>\n",
       "      <td>354.0</td>\n",
       "      <td>-171.0</td>\n",
       "      <td>POINT (7.52339 -3.07673)</td>\n",
       "    </tr>\n",
       "    <tr>\n",
       "      <th>218</th>\n",
       "      <td>1.665943e+12</td>\n",
       "      <td>349.0</td>\n",
       "      <td>-183.0</td>\n",
       "      <td>POINT (7.52339 -3.07673)</td>\n",
       "    </tr>\n",
       "    <tr>\n",
       "      <th>219</th>\n",
       "      <td>1.665954e+12</td>\n",
       "      <td>345.0</td>\n",
       "      <td>-185.0</td>\n",
       "      <td>POINT (7.52339 -3.07673)</td>\n",
       "    </tr>\n",
       "  </tbody>\n",
       "</table>\n",
       "<p>764170 rows × 4 columns</p>\n",
       "</div>"
      ],
      "text/plain": [
       "                       time  velocity_u_0  velocity_v_0  \\\n",
       "cluster index                                             \n",
       "0       0      1.665360e+12        -305.0          -7.0   \n",
       "        1      1.665371e+12        -280.0          50.0   \n",
       "        2      1.665382e+12        -226.0          62.0   \n",
       "        3      1.665392e+12        -194.0          -4.0   \n",
       "        4      1.665403e+12        -175.0          47.0   \n",
       "...                     ...           ...           ...   \n",
       "4633    215    1.665911e+12         329.0        -187.0   \n",
       "        216    1.665922e+12         347.0        -165.0   \n",
       "        217    1.665932e+12         354.0        -171.0   \n",
       "        218    1.665943e+12         349.0        -183.0   \n",
       "        219    1.665954e+12         345.0        -185.0   \n",
       "\n",
       "                                     .geo  \n",
       "cluster index                              \n",
       "0       0      POINT (-38.33560 31.68807)  \n",
       "        1      POINT (-38.33560 31.68807)  \n",
       "        2      POINT (-38.33560 31.68807)  \n",
       "        3      POINT (-38.33560 31.68807)  \n",
       "        4      POINT (-38.33560 31.68807)  \n",
       "...                                   ...  \n",
       "4633    215      POINT (7.52339 -3.07673)  \n",
       "        216      POINT (7.52339 -3.07673)  \n",
       "        217      POINT (7.52339 -3.07673)  \n",
       "        218      POINT (7.52339 -3.07673)  \n",
       "        219      POINT (7.52339 -3.07673)  \n",
       "\n",
       "[764170 rows x 4 columns]"
      ]
     },
     "execution_count": 28,
     "metadata": {},
     "output_type": "execute_result"
    }
   ],
   "source": [
    "water_df['.geo'] = water_df['.geo'].apply(json.loads).apply(shape)\n",
    "water_df = water_df.dropna().set_index(['cluster'])\n",
    "remap = dict(zip(water_df.index.unique(), list(range(len(water_df.index.unique())))))\n",
    "water_df = water_df.rename(index=remap).set_index(['index'], append=True)\n",
    "water_df = gp.GeoDataFrame(water_df, geometry='.geo')\n",
    "water_df"
   ]
  },
  {
   "cell_type": "code",
   "execution_count": 55,
   "id": "2a7f3701-3476-4c4f-a7ff-a4ceea526ec9",
   "metadata": {
    "pycharm": {
     "name": "#%%\n"
    },
    "tags": []
   },
   "outputs": [
    {
     "data": {
      "text/plain": [
       "(4634, 4, 4)"
      ]
     },
     "execution_count": 55,
     "metadata": {},
     "output_type": "execute_result"
    }
   ],
   "source": [
    "images = []\n",
    "largestx, largesty = -1, -1\n",
    "counter = 0\n",
    "for key, cluster_df in water_df.groupby(level=0):\n",
    "    cluster_df = cluster_df.droplevel(0)\n",
    "\n",
    "    cluster_df.time = pd.to_datetime(cluster_df.time, unit='ms').dt.strftime('%Y-%m-%d')\n",
    "    cluster_df.time = pd.Categorical(cluster_df.time)\n",
    "    \n",
    "    cluster_df.time = cluster_df.time.cat.rename_categories(list(range(len(cluster_df.time.cat.categories))))\n",
    "\n",
    "    cluster_df['x'] = pd.Categorical(cluster_df.geometry.x)\n",
    "    cluster_df['y'] = pd.Categorical(cluster_df.geometry.y)\n",
    "    cluster_df.x = cluster_df.x.cat.rename_categories(list(range(len(cluster_df.x.cat.categories))))\n",
    "    cluster_df.y = cluster_df.y.cat.rename_categories(list(range(len(cluster_df.y.cat.categories))))\n",
    "\n",
    "    time, maxx, maxy = cluster_df.time.cat.categories[-1] + 1, cluster_df.x.cat.categories[-1] + 1, cluster_df.y.cat.categories[-1] + 1\n",
    "    \n",
    "    # i don't want to deal with this shit\n",
    "    if (time != timespan): \n",
    "        counter += 1\n",
    "        continue\n",
    "\n",
    "    cluster_df = cluster_df.pivot_table(values=['velocity_u_0', 'velocity_v_0'], index=['time', 'y', 'x'], aggfunc=np.sum)\n",
    "    img = cluster_df.to_numpy().reshape([time, maxy, maxx, -1])\n",
    "    largestx, largesty = max(maxx, largestx), max(maxy, largesty)\n",
    "    \n",
    "    # [(x, y), img]\n",
    "    pos = water_df.loc[key].iloc[0].loc['.geo']\n",
    "    images.append([(pos.x, pos.y), img])\n",
    "    \n",
    "len(images), largestx, largesty"
   ]
  },
  {
   "cell_type": "markdown",
   "id": "8365b51c-514d-404d-a457-b84b7c6cad93",
   "metadata": {},
   "source": [
    "Just in case we need to rerun any inference, the data doesn't have to be reprocessed."
   ]
  },
  {
   "cell_type": "code",
   "execution_count": 56,
   "id": "48bbc339-19b3-4582-968f-06e6e549b00e",
   "metadata": {
    "pycharm": {
     "name": "#%%\n"
    }
   },
   "outputs": [],
   "source": [
    "with open('latest_atlantic_data.pickle', 'wb') as handle:\n",
    "    pickle.dump(images, handle, protocol=pickle.HIGHEST_PROTOCOL)"
   ]
  },
  {
   "cell_type": "markdown",
   "id": "0889f088-2163-46b8-93a2-6050c62a8110",
   "metadata": {
    "tags": []
   },
   "source": [
    "# Model Inference"
   ]
  },
  {
   "cell_type": "markdown",
   "id": "0192acf3-339a-4fc6-8bb6-412e48750be3",
   "metadata": {},
   "source": [
    "Define the GRU model"
   ]
  },
  {
   "cell_type": "code",
   "execution_count": 3,
   "id": "dc706c40-c497-4151-9cbe-fb084af23995",
   "metadata": {},
   "outputs": [],
   "source": [
    "def conv_output_shape(h_w, kernel_size, stride=1, pad=0, dilation=1):\n",
    "    \"\"\"\n",
    "    Utility function for computing output of convolutions\n",
    "    takes a tuple of (d,h,w) and returns a tuple of (d,h,w)\n",
    "    \"\"\"\n",
    "\n",
    "    if type(h_w) is not tuple:\n",
    "        h_w = (h_w, h_w, h_w)\n",
    "\n",
    "    if type(kernel_size) is not tuple:\n",
    "        kernel_size = (kernel_size, kernel_size)\n",
    "\n",
    "    if type(stride) is not tuple:\n",
    "        stride = (stride, stride)\n",
    "\n",
    "    if type(pad) is not tuple:\n",
    "        pad = (pad, pad)\n",
    "\n",
    "    h = (h_w[0] + (2 * pad[0]) - (dilation * (kernel_size[0] - 1)) - 1) // stride[0] + 1\n",
    "    w = (h_w[1] + (2 * pad[1]) - (dilation * (kernel_size[1] - 1)) - 1) // stride[1] + 1\n",
    "\n",
    "    return h, w\n",
    "\n",
    "class GRUNet(nn.Module):\n",
    "    \"\"\"\n",
    "    The input is expected to be a 5d tensor of dims [batch_size, time_steps, height, width, n_features]\n",
    "    representing a height*width region for a certain time_steps period. The region would contain n_features of\n",
    "    water_velocity, etc. to predict the final output. The final output will be 1 number representing the amount of\n",
    "    microplastics pieces/m^3.\n",
    "    \"\"\"\n",
    "\n",
    "    def __init__(self, input_dims: Tuple[int], hidden_size: int, output_dim=1, n_layers=1, drop_prob=0):\n",
    "        super(GRUNet, self).__init__()\n",
    "\n",
    "        self.batch_size, self.time_steps, self.height, self.width, self.n_features = input_dims\n",
    "\n",
    "        # hidden size refers to the dimensions of the GRUs hidden state\n",
    "        self.hidden_size = hidden_size\n",
    "        # should be 1, as we are predicting only total microplastic concentration in that height*width region\n",
    "        self.output_dim = output_dim\n",
    "        # number of stacked GRUs (default 1)\n",
    "        self.n_layers = n_layers\n",
    "\n",
    "        # 1*3*3 kernel makes it independent of the time_steps dimension, but n_features being the channel makes sure the\n",
    "        # convolutions depend on the value of the features of the surrounding pixels\n",
    "        self.feature_kernel = (1, 3, 3)\n",
    "\n",
    "        # series of convolutions to reduce dimensionality of height*width*n_features to height*width*1\n",
    "        # Quite sure ts0 = time_steps as number of time steps should not be changed throughout the convolutions\n",
    "        # [batch_size, n_features, time_steps, height, width] -> [batch_size, n_features, ts0, h0, w0]\n",
    "        self.conv0 = nn.Conv3d(self.n_features, self.n_features, self.feature_kernel)\n",
    "        h0, w0 = conv_output_shape((self.height, self.width), (3, 3))\n",
    "        # TODO: Add more conv layers\n",
    "        self.conv1 = nn.Conv3d(self.n_features, self.n_features, self.feature_kernel)\n",
    "        h1, w1 = conv_output_shape((h0, w0), (3, 3))\n",
    "        # normalize after convolutions\n",
    "        self.norm = nn.BatchNorm3d(self.n_features)\n",
    "\n",
    "        # this final conv layer will learn to compress n_features into 1 number, essentially a 1*1*1*n_features kernel\n",
    "        # -> [batch_size, 1, ts0, h0, w0]\n",
    "        self.feature_conv = nn.Conv3d(self.n_features, 1, (1,1,1))\n",
    "        # squeeze out the 1 dim.\n",
    "        # -> [batch_size, ts0, h0*w0] flattened final feature map of last 2 dims\n",
    "        self.flatten = nn.Flatten(-2,-1)\n",
    "\n",
    "        # input size of GRU will be the flattened feature map size = h0 * w0\n",
    "        self.gru = nn.GRU(h1*w1, self.hidden_size, self.n_layers, batch_first=True, dropout=drop_prob)\n",
    "        self.fc0 = nn.Linear(self.hidden_size, self.hidden_size//2)\n",
    "        self.fc1 = nn.Linear(self.hidden_size//2, self.output_dim)\n",
    "\n",
    "        self.relu = nn.ReLU()\n",
    "\n",
    "    def forward(self, x, h):\n",
    "        # permute as conv3d accepts inputs of [batch_size, channels/n_features, D/time_steps, H, W]\n",
    "        x = torch.permute(x, (0, 4, 1, 2, 3))\n",
    "        x = self.conv0(x)\n",
    "        x = self.conv1(x)\n",
    "        x = self.norm(x)\n",
    "        x = self.feature_conv(x)\n",
    "        x = torch.permute(x, (0, 2, 3, 4, 1))\n",
    "        # remove the 1 dimensional n_features channel. new shape [batch_size, time_steps, height, width]\n",
    "        x = torch.squeeze(x)\n",
    "        # flatten the height x width channel into a final feature map. -> [batch_size, time_steps, height * width]\n",
    "        x = self.flatten(x)\n",
    "\n",
    "        out, h = self.gru(x, h)\n",
    "        out = self.fc0(self.relu(out[:, -1]))\n",
    "        out = self.fc1(self.relu(out))\n",
    "        out = torch.squeeze(out)\n",
    "\n",
    "        return out, h\n",
    "\n",
    "    def init_hidden(self, batch_size):\n",
    "        weight = next(self.gru.parameters()).data\n",
    "        hidden = weight.new(self.n_layers, batch_size, self.hidden_size).zero_().to(device)\n",
    "        return hidden"
   ]
  },
  {
   "cell_type": "markdown",
   "id": "2f97397c-c038-4af8-82f0-42a55f9be097",
   "metadata": {},
   "source": [
    "Define our image dataset"
   ]
  },
  {
   "cell_type": "code",
   "execution_count": 4,
   "id": "f049d1e6-e978-4a03-a09f-236c6450a9e1",
   "metadata": {},
   "outputs": [],
   "source": [
    "class CustomImageDataset(Dataset):\n",
    "    def __init__(self, max_shape=(11,11), data_file=r\"latest_atlantic_data.pickle\"):\n",
    "        with open(data_file, 'rb') as handle:\n",
    "            # train_files holds a list of [label, time_series] pairs\n",
    "            # where each label themselves are a list of densities for each time frame.\n",
    "            train_data = pickle.load(handle)\n",
    "\n",
    "        # the different time series data are all of different shapes. We have to pad them on the fly.\n",
    "        self.coords, self.images = zip(*train_data)\n",
    "        self.height, self.width = max_shape\n",
    "\n",
    "    def __len__(self):\n",
    "        return len(self.coords)\n",
    "\n",
    "    def __getitem__(self, idx):\n",
    "        coords = self.coords[idx]\n",
    "        image = self.images[idx]\n",
    "        \n",
    "        # calculate margins for paddings\n",
    "        top = int(np.floor((self.height - image.shape[1])/2.0))\n",
    "        bottom = int(np.ceil((self.height - image.shape[1])/2.0))\n",
    "        left = int(np.floor((self.width - image.shape[2])/2.0))\n",
    "        right = int(np.ceil((self.width - image.shape[2])/2.0))\n",
    "        \n",
    "        # pad the image -> [don't pad time, pad height, pad width, don't pad channels]\n",
    "        image = np.pad(image, [(0, 0), (top, bottom), (left, right), (0, 0)])\n",
    "        return coords, image"
   ]
  },
  {
   "cell_type": "markdown",
   "id": "c91a833c-b130-474a-a6af-ac085e401e37",
   "metadata": {},
   "source": [
    "Instantiate the GRU model"
   ]
  },
  {
   "cell_type": "code",
   "execution_count": 6,
   "id": "c31a1a42-2179-499a-8d81-dfc0b667a820",
   "metadata": {},
   "outputs": [],
   "source": [
    "# torch.cuda.is_available() checks and returns a Boolean True if a GPU is available, else it'll return False\n",
    "is_cuda = torch.cuda.is_available()\n",
    "\n",
    "# If we have a GPU available, we'll set our device to GPU. We'll use this device variable later in our code.\n",
    "if is_cuda:\n",
    "    device = torch.device(\"cuda:0\")\n",
    "else:\n",
    "    device = torch.device(\"cpu\")\n",
    "\n",
    "# copied the same parameters as the model was trained with.\n",
    "hidden_dim = 128\n",
    "batch_size = 128\n",
    "time_steps = 7\n",
    "height = 11\n",
    "width = 11\n",
    "n_features = 2\n",
    "output_dim = 1\n",
    "n_layers = 1\n",
    "drop_prob = 0\n",
    "input_dim = (batch_size, time_steps, height, width, n_features)"
   ]
  },
  {
   "cell_type": "code",
   "execution_count": 8,
   "id": "33dd2202-1935-4d5a-aff5-66add7056203",
   "metadata": {},
   "outputs": [],
   "source": [
    "# load model in eval mode\n",
    "model = GRUNet(input_dim, hidden_dim, output_dim, n_layers, drop_prob)\n",
    "model.load_state_dict(torch.load(model_path))\n",
    "model = model.to(device)"
   ]
  },
  {
   "cell_type": "markdown",
   "id": "040c12ec-43c4-45ae-83ff-dde362d3e6d6",
   "metadata": {},
   "source": [
    "Run model on the data. We might end up with less data because drop_last=True is set to prevent model from breaking when the total dataset size is not divisible by batch_size"
   ]
  },
  {
   "cell_type": "code",
   "execution_count": 12,
   "id": "73911967-34ab-4106-9e90-ab24ec46e042",
   "metadata": {},
   "outputs": [],
   "source": [
    "dataset = CustomImageDataset(max_shape=(11, 11), data_file='data/latest_atlantic_data.pickle')\n",
    "loader = DataLoader(dataset, batch_size=128, shuffle=False, drop_last=True)\n",
    "\n",
    "# list of batch_size tensors\n",
    "results = list()\n",
    "\n",
    "with torch.inference_mode():\n",
    "    for coords, img in loader:\n",
    "        h = model.init_hidden(batch_size)\n",
    "        output, h = model.forward(img.to(device).float(), h)\n",
    "        results.append(torch.stack(coords + [output.cpu()], dim=1))\n",
    "        \n",
    "results = torch.cat(results)\n",
    "results"
   ]
  },
  {
   "cell_type": "code",
   "execution_count": 22,
   "id": "bb1cab43-5e36-4e37-aba4-0f0dfcb7f97e",
   "metadata": {},
   "outputs": [
    {
     "data": {
      "text/plain": [
       "torch.Size([4608, 3])"
      ]
     },
     "execution_count": 22,
     "metadata": {},
     "output_type": "execute_result"
    }
   ],
   "source": [
    "results.shape"
   ]
  },
  {
   "cell_type": "markdown",
   "id": "09a0e190-26dd-421b-be8c-3edb9237b11c",
   "metadata": {},
   "source": [
    "Memory consumption since start of the program. The relevant part would be active_bytes.all as it provides the current and peak memory allocations. "
   ]
  },
  {
   "cell_type": "code",
   "execution_count": 13,
   "id": "486b6a51-f6f9-48fc-a4b4-fb1c8f667725",
   "metadata": {
    "collapsed": true,
    "jupyter": {
     "outputs_hidden": true
    },
    "tags": []
   },
   "outputs": [
    {
     "data": {
      "text/plain": [
       "OrderedDict([('active.all.allocated', 828),\n",
       "             ('active.all.current', 18),\n",
       "             ('active.all.freed', 810),\n",
       "             ('active.all.peak', 25),\n",
       "             ('active.large_pool.allocated', 108),\n",
       "             ('active.large_pool.current', 0),\n",
       "             ('active.large_pool.freed', 108),\n",
       "             ('active.large_pool.peak', 2),\n",
       "             ('active.small_pool.allocated', 720),\n",
       "             ('active.small_pool.current', 18),\n",
       "             ('active.small_pool.freed', 702),\n",
       "             ('active.small_pool.peak', 24),\n",
       "             ('active_bytes.all.allocated', 859338240),\n",
       "             ('active_bytes.all.current', 380928),\n",
       "             ('active_bytes.all.freed', 858957312),\n",
       "             ('active_bytes.all.peak', 21008384),\n",
       "             ('active_bytes.large_pool.allocated', 742293504),\n",
       "             ('active_bytes.large_pool.current', 0),\n",
       "             ('active_bytes.large_pool.freed', 742293504),\n",
       "             ('active_bytes.large_pool.peak', 18884608),\n",
       "             ('active_bytes.small_pool.allocated', 117044736),\n",
       "             ('active_bytes.small_pool.current', 380928),\n",
       "             ('active_bytes.small_pool.freed', 116663808),\n",
       "             ('active_bytes.small_pool.peak', 2181120),\n",
       "             ('allocated_bytes.all.allocated', 859338240),\n",
       "             ('allocated_bytes.all.current', 380928),\n",
       "             ('allocated_bytes.all.freed', 858957312),\n",
       "             ('allocated_bytes.all.peak', 21008384),\n",
       "             ('allocated_bytes.large_pool.allocated', 742293504),\n",
       "             ('allocated_bytes.large_pool.current', 0),\n",
       "             ('allocated_bytes.large_pool.freed', 742293504),\n",
       "             ('allocated_bytes.large_pool.peak', 18884608),\n",
       "             ('allocated_bytes.small_pool.allocated', 117044736),\n",
       "             ('allocated_bytes.small_pool.current', 380928),\n",
       "             ('allocated_bytes.small_pool.freed', 116663808),\n",
       "             ('allocated_bytes.small_pool.peak', 2181120),\n",
       "             ('allocation.all.allocated', 828),\n",
       "             ('allocation.all.current', 18),\n",
       "             ('allocation.all.freed', 810),\n",
       "             ('allocation.all.peak', 25),\n",
       "             ('allocation.large_pool.allocated', 108),\n",
       "             ('allocation.large_pool.current', 0),\n",
       "             ('allocation.large_pool.freed', 108),\n",
       "             ('allocation.large_pool.peak', 2),\n",
       "             ('allocation.small_pool.allocated', 720),\n",
       "             ('allocation.small_pool.current', 18),\n",
       "             ('allocation.small_pool.freed', 702),\n",
       "             ('allocation.small_pool.peak', 24),\n",
       "             ('inactive_split.all.allocated', 310),\n",
       "             ('inactive_split.all.current', 4),\n",
       "             ('inactive_split.all.freed', 306),\n",
       "             ('inactive_split.all.peak', 8),\n",
       "             ('inactive_split.large_pool.allocated', 108),\n",
       "             ('inactive_split.large_pool.current', 0),\n",
       "             ('inactive_split.large_pool.freed', 108),\n",
       "             ('inactive_split.large_pool.peak', 2),\n",
       "             ('inactive_split.small_pool.allocated', 202),\n",
       "             ('inactive_split.small_pool.current', 4),\n",
       "             ('inactive_split.small_pool.freed', 198),\n",
       "             ('inactive_split.small_pool.peak', 6),\n",
       "             ('inactive_split_bytes.all.allocated', 1661034496),\n",
       "             ('inactive_split_bytes.all.current', 1716224),\n",
       "             ('inactive_split_bytes.all.freed', 1659318272),\n",
       "             ('inactive_split_bytes.all.peak', 20953600),\n",
       "             ('inactive_split_bytes.large_pool.allocated', 1447501824),\n",
       "             ('inactive_split_bytes.large_pool.current', 0),\n",
       "             ('inactive_split_bytes.large_pool.freed', 1447501824),\n",
       "             ('inactive_split_bytes.large_pool.peak', 19236864),\n",
       "             ('inactive_split_bytes.small_pool.allocated', 213532672),\n",
       "             ('inactive_split_bytes.small_pool.current', 1716224),\n",
       "             ('inactive_split_bytes.small_pool.freed', 211816448),\n",
       "             ('inactive_split_bytes.small_pool.peak', 2595328),\n",
       "             ('max_split_size', -1),\n",
       "             ('num_alloc_retries', 0),\n",
       "             ('num_ooms', 0),\n",
       "             ('oversize_allocations.allocated', 0),\n",
       "             ('oversize_allocations.current', 0),\n",
       "             ('oversize_allocations.freed', 0),\n",
       "             ('oversize_allocations.peak', 0),\n",
       "             ('oversize_segments.allocated', 0),\n",
       "             ('oversize_segments.current', 0),\n",
       "             ('oversize_segments.freed', 0),\n",
       "             ('oversize_segments.peak', 0),\n",
       "             ('reserved_bytes.all.allocated', 25165824),\n",
       "             ('reserved_bytes.all.current', 25165824),\n",
       "             ('reserved_bytes.all.freed', 0),\n",
       "             ('reserved_bytes.all.peak', 25165824),\n",
       "             ('reserved_bytes.large_pool.allocated', 20971520),\n",
       "             ('reserved_bytes.large_pool.current', 20971520),\n",
       "             ('reserved_bytes.large_pool.freed', 0),\n",
       "             ('reserved_bytes.large_pool.peak', 20971520),\n",
       "             ('reserved_bytes.small_pool.allocated', 4194304),\n",
       "             ('reserved_bytes.small_pool.current', 4194304),\n",
       "             ('reserved_bytes.small_pool.freed', 0),\n",
       "             ('reserved_bytes.small_pool.peak', 4194304),\n",
       "             ('segment.all.allocated', 3),\n",
       "             ('segment.all.current', 3),\n",
       "             ('segment.all.freed', 0),\n",
       "             ('segment.all.peak', 3),\n",
       "             ('segment.large_pool.allocated', 1),\n",
       "             ('segment.large_pool.current', 1),\n",
       "             ('segment.large_pool.freed', 0),\n",
       "             ('segment.large_pool.peak', 1),\n",
       "             ('segment.small_pool.allocated', 2),\n",
       "             ('segment.small_pool.current', 2),\n",
       "             ('segment.small_pool.freed', 0),\n",
       "             ('segment.small_pool.peak', 2)])"
      ]
     },
     "execution_count": 13,
     "metadata": {},
     "output_type": "execute_result"
    }
   ],
   "source": [
    "torch.cuda.memory_stats(device)"
   ]
  }
 ],
 "metadata": {
  "kernelspec": {
   "display_name": "Python 3 (ipykernel)",
   "language": "python",
   "name": "python3"
  },
  "language_info": {
   "codemirror_mode": {
    "name": "ipython",
    "version": 3
   },
   "file_extension": ".py",
   "mimetype": "text/x-python",
   "name": "python",
   "nbconvert_exporter": "python",
   "pygments_lexer": "ipython3",
   "version": "3.9.12"
  }
 },
 "nbformat": 4,
 "nbformat_minor": 5
}
