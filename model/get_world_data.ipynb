{
 "cells": [
  {
   "cell_type": "markdown",
   "id": "dc98d7ee-aab7-4695-9766-eccea15bb6d0",
   "metadata": {
    "pycharm": {
     "name": "#%% md\n"
    }
   },
   "source": [
    "# Initialise paramters"
   ]
  },
  {
   "cell_type": "markdown",
   "id": "f30b150c-813b-41ee-bac9-69e924f95e9b",
   "metadata": {
    "pycharm": {
     "name": "#%% md\n"
    }
   },
   "source": [
    "Will have to manually authenticate ee."
   ]
  },
  {
   "cell_type": "code",
   "execution_count": 1,
   "id": "7de638f2-c96e-424a-b1a2-7d3c71100ea4",
   "metadata": {
    "pycharm": {
     "name": "#%%\n"
    }
   },
   "outputs": [],
   "source": [
    "import ee\n",
    "\n",
    "# Trigger the authentication flow.\n",
    "#ee.Authenticate()\n",
    "\n",
    "# Initialize the library.\n",
    "ee.Initialize()"
   ]
  },
  {
   "cell_type": "code",
   "execution_count": 8,
   "id": "5590ae14-5b06-43f6-821e-3375e83e63c0",
   "metadata": {
    "pycharm": {
     "name": "#%%\n"
    }
   },
   "outputs": [],
   "source": [
    "import geopandas as gp\n",
    "import pandas as pd\n",
    "import matplotlib.pyplot as plt\n",
    "import json\n",
    "import pickle\n",
    "import os.path\n",
    "\n",
    "from shapely.ops import unary_union\n",
    "from shapely.geometry import Polygon, shape, Point\n",
    "\n",
    "import numpy as np\n",
    "\n",
    "from datetime import timedelta, datetime\n",
    "\n",
    "from typing import Tuple\n",
    "from itertools import cycle\n",
    "\n",
    "import torch.nn as nn\n",
    "import torch\n",
    "\n",
    "from torch.utils.data import Subset\n",
    "\n",
    "from torch.utils.data import Dataset, DataLoader, random_split\n",
    "import numpy as np\n",
    "import time\n",
    "import matplotlib.pyplot as plt"
   ]
  },
  {
   "cell_type": "markdown",
   "id": "609c2563-bfe0-42e6-9b1b-8b0c45c64d95",
   "metadata": {
    "pycharm": {
     "name": "#%% md\n"
    }
   },
   "source": [
    "Parameters for automated run. Should be most recent date that HYCOM has data for. Check dataset availability [here](https://developers.google.com/earth-engine/datasets/catalog/HYCOM_sea_water_velocity). Usually it is 2 days behind."
   ]
  },
  {
   "cell_type": "code",
   "execution_count": 9,
   "id": "efa002c0-e33f-4c45-9a28-9b0c62975267",
   "metadata": {
    "pycharm": {
     "name": "#%%\n"
    }
   },
   "outputs": [],
   "source": [
    "# year, month, date\n",
    "date = datetime(2022,10,20)\n",
    "# time frame for the model\n",
    "timespan = 7\n",
    "# number of points to sample from the atlantic, and request api data for to predict\n",
    "sample_n = 10000\n",
    "# filepath of model to use for inference\n",
    "model_path = r\"model_checkpoints/GRU_epoch_1500_loss_3.401.pt\""
   ]
  },
  {
   "cell_type": "markdown",
   "id": "b543ff34-9afc-40f8-b987-374dbbc08c6e",
   "metadata": {
    "pycharm": {
     "name": "#%% md\n"
    }
   },
   "source": [
    "# Get inference region points"
   ]
  },
  {
   "cell_type": "code",
   "execution_count": 11,
   "id": "3bfaa8d7-24eb-4d4f-8814-23370e98e1da",
   "metadata": {
    "pycharm": {
     "name": "#%%\n"
    }
   },
   "outputs": [
    {
     "data": {
      "text/html": [
       "<div>\n",
       "<style scoped>\n",
       "    .dataframe tbody tr th:only-of-type {\n",
       "        vertical-align: middle;\n",
       "    }\n",
       "\n",
       "    .dataframe tbody tr th {\n",
       "        vertical-align: top;\n",
       "    }\n",
       "\n",
       "    .dataframe thead th {\n",
       "        text-align: right;\n",
       "    }\n",
       "</style>\n",
       "<table border=\"1\" class=\"dataframe\">\n",
       "  <thead>\n",
       "    <tr style=\"text-align: right;\">\n",
       "      <th></th>\n",
       "      <th>name</th>\n",
       "      <th>id</th>\n",
       "      <th>longitude</th>\n",
       "      <th>latitude</th>\n",
       "      <th>min_x</th>\n",
       "      <th>min_y</th>\n",
       "      <th>max_x</th>\n",
       "      <th>max_y</th>\n",
       "      <th>area</th>\n",
       "      <th>mrgid</th>\n",
       "      <th>geometry</th>\n",
       "    </tr>\n",
       "  </thead>\n",
       "  <tbody>\n",
       "    <tr>\n",
       "      <th>7</th>\n",
       "      <td>South Atlantic Ocean</td>\n",
       "      <td>32</td>\n",
       "      <td>-18.808767</td>\n",
       "      <td>-33.732396</td>\n",
       "      <td>-69.600837</td>\n",
       "      <td>-60.000000</td>\n",
       "      <td>20.009049</td>\n",
       "      <td>0.075106</td>\n",
       "      <td>40501812.0</td>\n",
       "      <td>1914</td>\n",
       "      <td>POLYGON ((8.97417 -0.93603, 8.97515 -0.93592, ...</td>\n",
       "    </tr>\n",
       "    <tr>\n",
       "      <th>9</th>\n",
       "      <td>North Atlantic Ocean</td>\n",
       "      <td>23</td>\n",
       "      <td>-37.624244</td>\n",
       "      <td>29.480034</td>\n",
       "      <td>-83.014914</td>\n",
       "      <td>-0.002563</td>\n",
       "      <td>6.619967</td>\n",
       "      <td>68.638716</td>\n",
       "      <td>34507128.0</td>\n",
       "      <td>1912</td>\n",
       "      <td>POLYGON ((-6.26384 62.34582, -6.17706 62.32412...</td>\n",
       "    </tr>\n",
       "  </tbody>\n",
       "</table>\n",
       "</div>"
      ],
      "text/plain": [
       "                   name  id  longitude   latitude      min_x      min_y  \\\n",
       "7  South Atlantic Ocean  32 -18.808767 -33.732396 -69.600837 -60.000000   \n",
       "9  North Atlantic Ocean  23 -37.624244  29.480034 -83.014914  -0.002563   \n",
       "\n",
       "       max_x      max_y        area  mrgid  \\\n",
       "7  20.009049   0.075106  40501812.0   1914   \n",
       "9   6.619967  68.638716  34507128.0   1912   \n",
       "\n",
       "                                            geometry  \n",
       "7  POLYGON ((8.97417 -0.93603, 8.97515 -0.93592, ...  \n",
       "9  POLYGON ((-6.26384 62.34582, -6.17706 62.32412...  "
      ]
     },
     "execution_count": 11,
     "metadata": {},
     "output_type": "execute_result"
    }
   ],
   "source": [
    "tes = gp.read_file(r'data\\iho\\iho.shp')\n",
    "df = tes.loc[tes.name.isin(['South Atlantic Ocean', 'North Atlantic Ocean'])]\n",
    "df"
   ]
  },
  {
   "cell_type": "code",
   "execution_count": 12,
   "id": "19064389-8198-4233-a57b-5f74c4fd595b",
   "metadata": {
    "pycharm": {
     "name": "#%%\n"
    }
   },
   "outputs": [
    {
     "data": {
      "text/plain": [
       "<AxesSubplot:>"
      ]
     },
     "execution_count": 12,
     "metadata": {},
     "output_type": "execute_result"
    },
    {
     "data": {
      "image/png": "[encoded data removed]",
      "text/plain": [
       "<Figure size 640x480 with 1 Axes>"
      ]
     },
     "metadata": {},
     "output_type": "display_data"
    }
   ],
   "source": [
    "atlantic = df.dissolve().to_crs(epsg=3857)\n",
    "atlantic.plot()"
   ]
  },
  {
   "cell_type": "code",
   "execution_count": 13,
   "id": "1c32b27f-4b2a-4336-9752-992febbfe6da",
   "metadata": {
    "pycharm": {
     "name": "#%%\n"
    }
   },
   "outputs": [
    {
     "data": {
      "text/plain": [
       "(-9241177.971966805,\n",
       " -8399737.889818331,\n",
       " 2227397.1613292582,\n",
       " 10639472.197641218)"
      ]
     },
     "execution_count": 13,
     "metadata": {},
     "output_type": "execute_result"
    }
   ],
   "source": [
    "atlantic.geometry[0].bounds"
   ]
  },
  {
   "cell_type": "markdown",
   "id": "356b37ee-ea66-49ab-9396-ec8828cf5a71",
   "metadata": {
    "pycharm": {
     "name": "#%% md\n"
    }
   },
   "source": [
    "There does not exist inbuilt library methods to sample points within a geometry, especially not rectangular points. Using shapely's .contains() method to check if a point is in the atlantic takes a full second because the atlantic shape has a huge number of vertices. The fastest method is to filter the points using a spatial join with the points as the main table. Joining with the atlantic as the main table is pretty slow. We use a right join and then drop all NAs which are points not inside the atlantic region. We repeat this a multitude of times until we get a number of points that satisfies the requested number."
   ]
  },
  {
   "cell_type": "code",
   "execution_count": 14,
   "id": "7981263c-422d-4521-bd9f-1bfff734266e",
   "metadata": {
    "pycharm": {
     "name": "#%%\n"
    },
    "tags": []
   },
   "outputs": [
    {
     "data": {
      "text/html": [
       "<div>\n",
       "<style scoped>\n",
       "    .dataframe tbody tr th:only-of-type {\n",
       "        vertical-align: middle;\n",
       "    }\n",
       "\n",
       "    .dataframe tbody tr th {\n",
       "        vertical-align: top;\n",
       "    }\n",
       "\n",
       "    .dataframe thead th {\n",
       "        text-align: right;\n",
       "    }\n",
       "</style>\n",
       "<table border=\"1\" class=\"dataframe\">\n",
       "  <thead>\n",
       "    <tr style=\"text-align: right;\">\n",
       "      <th></th>\n",
       "      <th>index_left</th>\n",
       "      <th>name</th>\n",
       "      <th>id</th>\n",
       "      <th>longitude</th>\n",
       "      <th>latitude</th>\n",
       "      <th>min_x</th>\n",
       "      <th>min_y</th>\n",
       "      <th>max_x</th>\n",
       "      <th>max_y</th>\n",
       "      <th>area</th>\n",
       "      <th>mrgid</th>\n",
       "      <th>0</th>\n",
       "    </tr>\n",
       "  </thead>\n",
       "  <tbody>\n",
       "    <tr>\n",
       "      <th>0</th>\n",
       "      <td>0.0</td>\n",
       "      <td>South Atlantic Ocean</td>\n",
       "      <td>32</td>\n",
       "      <td>-18.808767</td>\n",
       "      <td>-33.732396</td>\n",
       "      <td>-69.600837</td>\n",
       "      <td>-60.0</td>\n",
       "      <td>20.009049</td>\n",
       "      <td>0.075106</td>\n",
       "      <td>40501812.0</td>\n",
       "      <td>1914.0</td>\n",
       "      <td>POLYGON ((-3491017.777 1213697.374, -3481017.7...</td>\n",
       "    </tr>\n",
       "    <tr>\n",
       "      <th>1</th>\n",
       "      <td>0.0</td>\n",
       "      <td>South Atlantic Ocean</td>\n",
       "      <td>32</td>\n",
       "      <td>-18.808767</td>\n",
       "      <td>-33.732396</td>\n",
       "      <td>-69.600837</td>\n",
       "      <td>-60.0</td>\n",
       "      <td>20.009049</td>\n",
       "      <td>0.075106</td>\n",
       "      <td>40501812.0</td>\n",
       "      <td>1914.0</td>\n",
       "      <td>POLYGON ((-7572044.829 4622918.073, -7562044.8...</td>\n",
       "    </tr>\n",
       "    <tr>\n",
       "      <th>2</th>\n",
       "      <td>0.0</td>\n",
       "      <td>South Atlantic Ocean</td>\n",
       "      <td>32</td>\n",
       "      <td>-18.808767</td>\n",
       "      <td>-33.732396</td>\n",
       "      <td>-69.600837</td>\n",
       "      <td>-60.0</td>\n",
       "      <td>20.009049</td>\n",
       "      <td>0.075106</td>\n",
       "      <td>40501812.0</td>\n",
       "      <td>1914.0</td>\n",
       "      <td>POLYGON ((-2962467.105 -5918314.866, -2952467....</td>\n",
       "    </tr>\n",
       "    <tr>\n",
       "      <th>6</th>\n",
       "      <td>0.0</td>\n",
       "      <td>South Atlantic Ocean</td>\n",
       "      <td>32</td>\n",
       "      <td>-18.808767</td>\n",
       "      <td>-33.732396</td>\n",
       "      <td>-69.600837</td>\n",
       "      <td>-60.0</td>\n",
       "      <td>20.009049</td>\n",
       "      <td>0.075106</td>\n",
       "      <td>40501812.0</td>\n",
       "      <td>1914.0</td>\n",
       "      <td>POLYGON ((743042.693 -3845258.866, 753042.693 ...</td>\n",
       "    </tr>\n",
       "    <tr>\n",
       "      <th>7</th>\n",
       "      <td>0.0</td>\n",
       "      <td>South Atlantic Ocean</td>\n",
       "      <td>32</td>\n",
       "      <td>-18.808767</td>\n",
       "      <td>-33.732396</td>\n",
       "      <td>-69.600837</td>\n",
       "      <td>-60.0</td>\n",
       "      <td>20.009049</td>\n",
       "      <td>0.075106</td>\n",
       "      <td>40501812.0</td>\n",
       "      <td>1914.0</td>\n",
       "      <td>POLYGON ((-502582.964 -1007120.349, -492582.96...</td>\n",
       "    </tr>\n",
       "    <tr>\n",
       "      <th>...</th>\n",
       "      <td>...</td>\n",
       "      <td>...</td>\n",
       "      <td>...</td>\n",
       "      <td>...</td>\n",
       "      <td>...</td>\n",
       "      <td>...</td>\n",
       "      <td>...</td>\n",
       "      <td>...</td>\n",
       "      <td>...</td>\n",
       "      <td>...</td>\n",
       "      <td>...</td>\n",
       "      <td>...</td>\n",
       "    </tr>\n",
       "    <tr>\n",
       "      <th>18117</th>\n",
       "      <td>0.0</td>\n",
       "      <td>South Atlantic Ocean</td>\n",
       "      <td>32</td>\n",
       "      <td>-18.808767</td>\n",
       "      <td>-33.732396</td>\n",
       "      <td>-69.600837</td>\n",
       "      <td>-60.0</td>\n",
       "      <td>20.009049</td>\n",
       "      <td>0.075106</td>\n",
       "      <td>40501812.0</td>\n",
       "      <td>1914.0</td>\n",
       "      <td>POLYGON ((-7473571.884 -7936776.397, -7463571....</td>\n",
       "    </tr>\n",
       "    <tr>\n",
       "      <th>18118</th>\n",
       "      <td>0.0</td>\n",
       "      <td>South Atlantic Ocean</td>\n",
       "      <td>32</td>\n",
       "      <td>-18.808767</td>\n",
       "      <td>-33.732396</td>\n",
       "      <td>-69.600837</td>\n",
       "      <td>-60.0</td>\n",
       "      <td>20.009049</td>\n",
       "      <td>0.075106</td>\n",
       "      <td>40501812.0</td>\n",
       "      <td>1914.0</td>\n",
       "      <td>POLYGON ((-2064774.080 2972115.445, -2054774.0...</td>\n",
       "    </tr>\n",
       "    <tr>\n",
       "      <th>18120</th>\n",
       "      <td>0.0</td>\n",
       "      <td>South Atlantic Ocean</td>\n",
       "      <td>32</td>\n",
       "      <td>-18.808767</td>\n",
       "      <td>-33.732396</td>\n",
       "      <td>-69.600837</td>\n",
       "      <td>-60.0</td>\n",
       "      <td>20.009049</td>\n",
       "      <td>0.075106</td>\n",
       "      <td>40501812.0</td>\n",
       "      <td>1914.0</td>\n",
       "      <td>POLYGON ((-4265163.109 4915906.132, -4255163.1...</td>\n",
       "    </tr>\n",
       "    <tr>\n",
       "      <th>18122</th>\n",
       "      <td>0.0</td>\n",
       "      <td>South Atlantic Ocean</td>\n",
       "      <td>32</td>\n",
       "      <td>-18.808767</td>\n",
       "      <td>-33.732396</td>\n",
       "      <td>-69.600837</td>\n",
       "      <td>-60.0</td>\n",
       "      <td>20.009049</td>\n",
       "      <td>0.075106</td>\n",
       "      <td>40501812.0</td>\n",
       "      <td>1914.0</td>\n",
       "      <td>POLYGON ((-4529425.787 9195776.264, -4519425.7...</td>\n",
       "    </tr>\n",
       "    <tr>\n",
       "      <th>18124</th>\n",
       "      <td>0.0</td>\n",
       "      <td>South Atlantic Ocean</td>\n",
       "      <td>32</td>\n",
       "      <td>-18.808767</td>\n",
       "      <td>-33.732396</td>\n",
       "      <td>-69.600837</td>\n",
       "      <td>-60.0</td>\n",
       "      <td>20.009049</td>\n",
       "      <td>0.075106</td>\n",
       "      <td>40501812.0</td>\n",
       "      <td>1914.0</td>\n",
       "      <td>POLYGON ((-5213293.502 -3275306.347, -5203293....</td>\n",
       "    </tr>\n",
       "  </tbody>\n",
       "</table>\n",
       "<p>10000 rows × 12 columns</p>\n",
       "</div>"
      ],
      "text/plain": [
       "       index_left                  name  id  longitude   latitude      min_x  \\\n",
       "0             0.0  South Atlantic Ocean  32 -18.808767 -33.732396 -69.600837   \n",
       "1             0.0  South Atlantic Ocean  32 -18.808767 -33.732396 -69.600837   \n",
       "2             0.0  South Atlantic Ocean  32 -18.808767 -33.732396 -69.600837   \n",
       "6             0.0  South Atlantic Ocean  32 -18.808767 -33.732396 -69.600837   \n",
       "7             0.0  South Atlantic Ocean  32 -18.808767 -33.732396 -69.600837   \n",
       "...           ...                   ...  ..        ...        ...        ...   \n",
       "18117         0.0  South Atlantic Ocean  32 -18.808767 -33.732396 -69.600837   \n",
       "18118         0.0  South Atlantic Ocean  32 -18.808767 -33.732396 -69.600837   \n",
       "18120         0.0  South Atlantic Ocean  32 -18.808767 -33.732396 -69.600837   \n",
       "18122         0.0  South Atlantic Ocean  32 -18.808767 -33.732396 -69.600837   \n",
       "18124         0.0  South Atlantic Ocean  32 -18.808767 -33.732396 -69.600837   \n",
       "\n",
       "       min_y      max_x     max_y        area   mrgid  \\\n",
       "0      -60.0  20.009049  0.075106  40501812.0  1914.0   \n",
       "1      -60.0  20.009049  0.075106  40501812.0  1914.0   \n",
       "2      -60.0  20.009049  0.075106  40501812.0  1914.0   \n",
       "6      -60.0  20.009049  0.075106  40501812.0  1914.0   \n",
       "7      -60.0  20.009049  0.075106  40501812.0  1914.0   \n",
       "...      ...        ...       ...         ...     ...   \n",
       "18117  -60.0  20.009049  0.075106  40501812.0  1914.0   \n",
       "18118  -60.0  20.009049  0.075106  40501812.0  1914.0   \n",
       "18120  -60.0  20.009049  0.075106  40501812.0  1914.0   \n",
       "18122  -60.0  20.009049  0.075106  40501812.0  1914.0   \n",
       "18124  -60.0  20.009049  0.075106  40501812.0  1914.0   \n",
       "\n",
       "                                                       0  \n",
       "0      POLYGON ((-3491017.777 1213697.374, -3481017.7...  \n",
       "1      POLYGON ((-7572044.829 4622918.073, -7562044.8...  \n",
       "2      POLYGON ((-2962467.105 -5918314.866, -2952467....  \n",
       "6      POLYGON ((743042.693 -3845258.866, 753042.693 ...  \n",
       "7      POLYGON ((-502582.964 -1007120.349, -492582.96...  \n",
       "...                                                  ...  \n",
       "18117  POLYGON ((-7473571.884 -7936776.397, -7463571....  \n",
       "18118  POLYGON ((-2064774.080 2972115.445, -2054774.0...  \n",
       "18120  POLYGON ((-4265163.109 4915906.132, -4255163.1...  \n",
       "18122  POLYGON ((-4529425.787 9195776.264, -4519425.7...  \n",
       "18124  POLYGON ((-5213293.502 -3275306.347, -5203293....  \n",
       "\n",
       "[10000 rows x 12 columns]"
      ]
     },
     "execution_count": 14,
     "metadata": {},
     "output_type": "execute_result"
    }
   ],
   "source": [
    "# 10 x 10 km wide squares\n",
    "length = 10000\n",
    "wide = 10000\n",
    "\n",
    "def random_rects_in_polygon(number, polygon):\n",
    "    regions = []\n",
    "    regions_gpd = gp.GeoDataFrame()\n",
    "    min_x, min_y, max_x, max_y = polygon.bounds\n",
    "    while regions_gpd.shape[0] < number:\n",
    "        for j in range(5000):\n",
    "            x, y = np.random.uniform(min_x, max_x), np.random.uniform(min_y, max_y)\n",
    "            rect = Polygon([(x,y), (x+wide, y), (x+wide, y+length), (x, y+length)])\n",
    "            regions.append(rect)\n",
    "        regions_gpd = gp.sjoin(atlantic, gp.GeoDataFrame(regions, geometry=0, crs='epsg:3857'), how='right').dropna()\n",
    "    return regions_gpd.iloc[:sample_n]\n",
    "\n",
    "data_points = random_rects_in_polygon(sample_n, atlantic.geometry[0])\n",
    "data_points"
   ]
  },
  {
   "cell_type": "code",
   "execution_count": 15,
   "id": "7b20eaab-d9a6-4e56-96d9-705caec8468c",
   "metadata": {
    "pycharm": {
     "name": "#%%\n"
    }
   },
   "outputs": [
    {
     "data": {
      "text/plain": [
       "<AxesSubplot:>"
      ]
     },
     "execution_count": 15,
     "metadata": {},
     "output_type": "execute_result"
    },
    {
     "data": {
      "image/png": "[encoded data removed]",
      "text/plain": [
       "<Figure size 640x480 with 1 Axes>"
      ]
     },
     "metadata": {},
     "output_type": "display_data"
    }
   ],
   "source": [
    "data_points.plot()"
   ]
  },
  {
   "cell_type": "markdown",
   "id": "fa9a34d9-5fc9-4629-809f-253e1605993a",
   "metadata": {
    "pycharm": {
     "name": "#%% md\n"
    }
   },
   "source": [
    "# Request data from API"
   ]
  },
  {
   "cell_type": "code",
   "execution_count": 23,
   "id": "f92e041a-71ed-475c-a799-002305b0f212",
   "metadata": {
    "pycharm": {
     "name": "#%%\n"
    }
   },
   "outputs": [],
   "source": [
    "def extract_raster_values_from_df(df, image_collection, band_names, task_prefix, date, lookback_days=3, scale=5000, export=False):\n",
    "    df['ee_region'] = df.geometry.apply(lambda x: ee.Geometry.Polygon(list((x.exterior.coords)), proj='EPSG:3857'))\n",
    "    regionCollection = ee.List([])\n",
    "    emptyCol = ee.FeatureCollection(ee.Feature(None))\n",
    "    \n",
    "    # iterate through all entries\n",
    "    for row in df.itertuples():\n",
    "        # instantiate the image collection for the selected time series\n",
    "        collection = ee.ImageCollection(image_collection).filterDate((date - timedelta(days=lookback_days)).strftime('%Y-%m-%d'), date.strftime('%Y-%m-%d')).select(band_names)\n",
    "        \n",
    "        # get the raster information based on the buffer region we created\n",
    "        pixelInfoRegion = collection.getRegion(geometry=getattr(row, 'ee_region'), scale=scale)\n",
    "\n",
    "        # remove the first element, which is the header ['id', 'longitude', 'latitude', 'time', 'velocity_u_0', 'velocity_v_0']\n",
    "        pixelInfoRegion = pixelInfoRegion.remove(pixelInfoRegion.get(0))\n",
    "        # convert the 2d list of information to features. Going to hard code this part as I cba\n",
    "        def func(x):\n",
    "            x = ee.List(x)\n",
    "            feat = ee.Feature(ee.Geometry.Point([x.get(1), x.get(2)], proj='EPSG:4326'), {'time':x.get(3),'velocity_u_0':x.get(4),'velocity_v_0':x.get(5)})\n",
    "            return feat\n",
    "        col = ee.FeatureCollection(pixelInfoRegion.map(func))\n",
    "        # add the region that we created to the overall feature collection\n",
    "        \n",
    "        # ensure collection is not empty bands\n",
    "        regionCollection = regionCollection.add(ee.Algorithms.If(collection.size(), col, emptyCol))\n",
    "    \n",
    "    if export:\n",
    "        return ee.batch.Export.table.toCloudStorage(collection=ee.FeatureCollection(regionCollection).flatten(), bucket='water_velocities', description=task_prefix, fileNamePrefix=task_prefix, fileFormat=\"csv\")\n",
    "    else:\n",
    "        return ee.FeatureCollection(regionCollection).flatten()"
   ]
  },
  {
   "cell_type": "markdown",
   "id": "e62a3d53-3517-4101-8106-1bde4e91aff3",
   "metadata": {
    "pycharm": {
     "name": "#%% md\n"
    }
   },
   "source": [
    "Kernel keeps crashing when we task.start() for too many points."
   ]
  },
  {
   "cell_type": "code",
   "execution_count": 24,
   "id": "fa648bc1-1524-401e-bf8e-11e5edbf527f",
   "metadata": {
    "pycharm": {
     "name": "#%%\n"
    },
    "tags": []
   },
   "outputs": [],
   "source": [
    "size = 500\n",
    "for i in range(0, sample_n, size):\n",
    "    task_prefix = f\"{date.strftime('%d.%m.%Y')}/atlantic_water_velocities_{i}\"\n",
    "    task = extract_raster_values_from_df(data_points.iloc[i:i+size].copy(), 'HYCOM/sea_water_velocity', ['velocity_u_0', 'velocity_v_0'], task_prefix, date, lookback_days=timespan, export=True)\n",
    "    task.start()"
   ]
  },
  {
   "cell_type": "markdown",
   "id": "9615aae7-da66-41e7-9d99-84574a2182d8",
   "metadata": {
    "pycharm": {
     "name": "#%% md\n"
    }
   },
   "source": [
    "Assert that exported data is in the directory for use. If not, manually copy them over :)"
   ]
  },
  {
   "cell_type": "code",
   "execution_count": 43,
   "id": "3f0517a3-e179-4d54-b996-b8c2b9b20146",
   "metadata": {
    "pycharm": {
     "name": "#%%\n"
    }
   },
   "outputs": [],
   "source": [
    "assert os.path.isfile(f\"data/data_files/{date.strftime('%d.%m.%Y')}/atlantic_water_velocities_0.csv\") "
   ]
  },
  {
   "cell_type": "code",
   "execution_count": 44,
   "id": "3c263c20-2c48-495b-a83a-611737812b63",
   "metadata": {
    "pycharm": {
     "name": "#%%\n"
    }
   },
   "outputs": [
    {
     "data": {
      "text/html": [
       "<div>\n",
       "<style scoped>\n",
       "    .dataframe tbody tr th:only-of-type {\n",
       "        vertical-align: middle;\n",
       "    }\n",
       "\n",
       "    .dataframe tbody tr th {\n",
       "        vertical-align: top;\n",
       "    }\n",
       "\n",
       "    .dataframe thead th {\n",
       "        text-align: right;\n",
       "    }\n",
       "</style>\n",
       "<table border=\"1\" class=\"dataframe\">\n",
       "  <thead>\n",
       "    <tr style=\"text-align: right;\">\n",
       "      <th></th>\n",
       "      <th>time</th>\n",
       "      <th>velocity_u_0</th>\n",
       "      <th>velocity_v_0</th>\n",
       "      <th>.geo</th>\n",
       "      <th>cluster</th>\n",
       "      <th>index</th>\n",
       "    </tr>\n",
       "  </thead>\n",
       "  <tbody>\n",
       "    <tr>\n",
       "      <th>0</th>\n",
       "      <td>1.665619e+12</td>\n",
       "      <td>225.0</td>\n",
       "      <td>-179.0</td>\n",
       "      <td>{\"type\":\"Point\",\"coordinates\":[-39.59324614756...</td>\n",
       "      <td>0</td>\n",
       "      <td>0</td>\n",
       "    </tr>\n",
       "    <tr>\n",
       "      <th>1</th>\n",
       "      <td>1.665630e+12</td>\n",
       "      <td>187.0</td>\n",
       "      <td>-213.0</td>\n",
       "      <td>{\"type\":\"Point\",\"coordinates\":[-39.59324614756...</td>\n",
       "      <td>0</td>\n",
       "      <td>1</td>\n",
       "    </tr>\n",
       "    <tr>\n",
       "      <th>2</th>\n",
       "      <td>1.665641e+12</td>\n",
       "      <td>225.0</td>\n",
       "      <td>-226.0</td>\n",
       "      <td>{\"type\":\"Point\",\"coordinates\":[-39.59324614756...</td>\n",
       "      <td>0</td>\n",
       "      <td>2</td>\n",
       "    </tr>\n",
       "    <tr>\n",
       "      <th>3</th>\n",
       "      <td>1.665652e+12</td>\n",
       "      <td>239.0</td>\n",
       "      <td>-168.0</td>\n",
       "      <td>{\"type\":\"Point\",\"coordinates\":[-39.59324614756...</td>\n",
       "      <td>0</td>\n",
       "      <td>3</td>\n",
       "    </tr>\n",
       "    <tr>\n",
       "      <th>4</th>\n",
       "      <td>1.665662e+12</td>\n",
       "      <td>191.0</td>\n",
       "      <td>-119.0</td>\n",
       "      <td>{\"type\":\"Point\",\"coordinates\":[-39.59324614756...</td>\n",
       "      <td>0</td>\n",
       "      <td>4</td>\n",
       "    </tr>\n",
       "    <tr>\n",
       "      <th>...</th>\n",
       "      <td>...</td>\n",
       "      <td>...</td>\n",
       "      <td>...</td>\n",
       "      <td>...</td>\n",
       "      <td>...</td>\n",
       "      <td>...</td>\n",
       "    </tr>\n",
       "    <tr>\n",
       "      <th>86011</th>\n",
       "      <td>1.666170e+12</td>\n",
       "      <td>-203.0</td>\n",
       "      <td>-48.0</td>\n",
       "      <td>{\"type\":\"Point\",\"coordinates\":[-32.27197658199...</td>\n",
       "      <td>9999</td>\n",
       "      <td>219</td>\n",
       "    </tr>\n",
       "    <tr>\n",
       "      <th>86012</th>\n",
       "      <td>1.666181e+12</td>\n",
       "      <td>-310.0</td>\n",
       "      <td>-89.0</td>\n",
       "      <td>{\"type\":\"Point\",\"coordinates\":[-32.27197658199...</td>\n",
       "      <td>9999</td>\n",
       "      <td>220</td>\n",
       "    </tr>\n",
       "    <tr>\n",
       "      <th>86013</th>\n",
       "      <td>1.666192e+12</td>\n",
       "      <td>-336.0</td>\n",
       "      <td>-148.0</td>\n",
       "      <td>{\"type\":\"Point\",\"coordinates\":[-32.27197658199...</td>\n",
       "      <td>9999</td>\n",
       "      <td>221</td>\n",
       "    </tr>\n",
       "    <tr>\n",
       "      <th>86014</th>\n",
       "      <td>1.666202e+12</td>\n",
       "      <td>-338.0</td>\n",
       "      <td>-194.0</td>\n",
       "      <td>{\"type\":\"Point\",\"coordinates\":[-32.27197658199...</td>\n",
       "      <td>9999</td>\n",
       "      <td>222</td>\n",
       "    </tr>\n",
       "    <tr>\n",
       "      <th>86015</th>\n",
       "      <td>1.666213e+12</td>\n",
       "      <td>-269.0</td>\n",
       "      <td>-176.0</td>\n",
       "      <td>{\"type\":\"Point\",\"coordinates\":[-32.27197658199...</td>\n",
       "      <td>9999</td>\n",
       "      <td>223</td>\n",
       "    </tr>\n",
       "  </tbody>\n",
       "</table>\n",
       "<p>1732416 rows × 6 columns</p>\n",
       "</div>"
      ],
      "text/plain": [
       "               time  velocity_u_0  velocity_v_0  \\\n",
       "0      1.665619e+12         225.0        -179.0   \n",
       "1      1.665630e+12         187.0        -213.0   \n",
       "2      1.665641e+12         225.0        -226.0   \n",
       "3      1.665652e+12         239.0        -168.0   \n",
       "4      1.665662e+12         191.0        -119.0   \n",
       "...             ...           ...           ...   \n",
       "86011  1.666170e+12        -203.0         -48.0   \n",
       "86012  1.666181e+12        -310.0         -89.0   \n",
       "86013  1.666192e+12        -336.0        -148.0   \n",
       "86014  1.666202e+12        -338.0        -194.0   \n",
       "86015  1.666213e+12        -269.0        -176.0   \n",
       "\n",
       "                                                    .geo  cluster index  \n",
       "0      {\"type\":\"Point\",\"coordinates\":[-39.59324614756...        0     0  \n",
       "1      {\"type\":\"Point\",\"coordinates\":[-39.59324614756...        0     1  \n",
       "2      {\"type\":\"Point\",\"coordinates\":[-39.59324614756...        0     2  \n",
       "3      {\"type\":\"Point\",\"coordinates\":[-39.59324614756...        0     3  \n",
       "4      {\"type\":\"Point\",\"coordinates\":[-39.59324614756...        0     4  \n",
       "...                                                  ...      ...   ...  \n",
       "86011  {\"type\":\"Point\",\"coordinates\":[-32.27197658199...     9999   219  \n",
       "86012  {\"type\":\"Point\",\"coordinates\":[-32.27197658199...     9999   220  \n",
       "86013  {\"type\":\"Point\",\"coordinates\":[-32.27197658199...     9999   221  \n",
       "86014  {\"type\":\"Point\",\"coordinates\":[-32.27197658199...     9999   222  \n",
       "86015  {\"type\":\"Point\",\"coordinates\":[-32.27197658199...     9999   223  \n",
       "\n",
       "[1732416 rows x 6 columns]"
      ]
     },
     "execution_count": 44,
     "metadata": {},
     "output_type": "execute_result"
    }
   ],
   "source": [
    "size = 500\n",
    "df_list = []\n",
    "for i in range(0, sample_n, size):\n",
    "    sub_df = pd.read_csv(f\"data/data_files/{date.strftime('%d.%m.%Y')}/atlantic_water_velocities_{i}.csv\")\n",
    "    \n",
    "    water_idx = sub_df['system:index'].str.split('_', expand=True)\n",
    "    water_idx = water_idx.rename(columns={0:'cluster', 1:'index'})\n",
    "    water_idx['cluster'] = water_idx['cluster'].astype(int) + i\n",
    "    \n",
    "    sub_df = sub_df.join(water_idx).drop(columns=['system:index'])\n",
    "    \n",
    "    df_list.append(sub_df)\n",
    "    \n",
    "water_df = pd.concat(df_list, axis=0)\n",
    "water_df"
   ]
  },
  {
   "cell_type": "code",
   "execution_count": 45,
   "id": "dccb79f6-1c45-4fd2-9ebb-76407082c11d",
   "metadata": {
    "pycharm": {
     "name": "#%%\n"
    }
   },
   "outputs": [
    {
     "data": {
      "text/plain": [
       "13552"
      ]
     },
     "execution_count": 45,
     "metadata": {},
     "output_type": "execute_result"
    }
   ],
   "source": [
    "water_df.isna().any(axis=1).sum()"
   ]
  },
  {
   "cell_type": "markdown",
   "id": "07f7d643-1e08-438f-8b82-282cd16fc6fd",
   "metadata": {
    "pycharm": {
     "name": "#%% md\n"
    }
   },
   "source": [
    "Some clusters will be NaN values, remove those."
   ]
  },
  {
   "cell_type": "code",
   "execution_count": 46,
   "id": "cbadc60c-84b9-4c4b-bece-4cf7b1131791",
   "metadata": {
    "pycharm": {
     "name": "#%%\n"
    }
   },
   "outputs": [
    {
     "data": {
      "text/html": [
       "<div>\n",
       "<style scoped>\n",
       "    .dataframe tbody tr th:only-of-type {\n",
       "        vertical-align: middle;\n",
       "    }\n",
       "\n",
       "    .dataframe tbody tr th {\n",
       "        vertical-align: top;\n",
       "    }\n",
       "\n",
       "    .dataframe thead th {\n",
       "        text-align: right;\n",
       "    }\n",
       "</style>\n",
       "<table border=\"1\" class=\"dataframe\">\n",
       "  <thead>\n",
       "    <tr style=\"text-align: right;\">\n",
       "      <th></th>\n",
       "      <th></th>\n",
       "      <th>time</th>\n",
       "      <th>velocity_u_0</th>\n",
       "      <th>velocity_v_0</th>\n",
       "      <th>.geo</th>\n",
       "    </tr>\n",
       "    <tr>\n",
       "      <th>cluster</th>\n",
       "      <th>index</th>\n",
       "      <th></th>\n",
       "      <th></th>\n",
       "      <th></th>\n",
       "      <th></th>\n",
       "    </tr>\n",
       "  </thead>\n",
       "  <tbody>\n",
       "    <tr>\n",
       "      <th rowspan=\"5\" valign=\"top\">0</th>\n",
       "      <th>0</th>\n",
       "      <td>1.665619e+12</td>\n",
       "      <td>225.0</td>\n",
       "      <td>-179.0</td>\n",
       "      <td>POINT (-39.59325 -58.41295)</td>\n",
       "    </tr>\n",
       "    <tr>\n",
       "      <th>1</th>\n",
       "      <td>1.665630e+12</td>\n",
       "      <td>187.0</td>\n",
       "      <td>-213.0</td>\n",
       "      <td>POINT (-39.59325 -58.41295)</td>\n",
       "    </tr>\n",
       "    <tr>\n",
       "      <th>2</th>\n",
       "      <td>1.665641e+12</td>\n",
       "      <td>225.0</td>\n",
       "      <td>-226.0</td>\n",
       "      <td>POINT (-39.59325 -58.41295)</td>\n",
       "    </tr>\n",
       "    <tr>\n",
       "      <th>3</th>\n",
       "      <td>1.665652e+12</td>\n",
       "      <td>239.0</td>\n",
       "      <td>-168.0</td>\n",
       "      <td>POINT (-39.59325 -58.41295)</td>\n",
       "    </tr>\n",
       "    <tr>\n",
       "      <th>4</th>\n",
       "      <td>1.665662e+12</td>\n",
       "      <td>191.0</td>\n",
       "      <td>-119.0</td>\n",
       "      <td>POINT (-39.59325 -58.41295)</td>\n",
       "    </tr>\n",
       "    <tr>\n",
       "      <th>...</th>\n",
       "      <th>...</th>\n",
       "      <td>...</td>\n",
       "      <td>...</td>\n",
       "      <td>...</td>\n",
       "      <td>...</td>\n",
       "    </tr>\n",
       "    <tr>\n",
       "      <th rowspan=\"5\" valign=\"top\">9891</th>\n",
       "      <th>219</th>\n",
       "      <td>1.666170e+12</td>\n",
       "      <td>-203.0</td>\n",
       "      <td>-48.0</td>\n",
       "      <td>POINT (-32.27198 -15.20399)</td>\n",
       "    </tr>\n",
       "    <tr>\n",
       "      <th>220</th>\n",
       "      <td>1.666181e+12</td>\n",
       "      <td>-310.0</td>\n",
       "      <td>-89.0</td>\n",
       "      <td>POINT (-32.27198 -15.20399)</td>\n",
       "    </tr>\n",
       "    <tr>\n",
       "      <th>221</th>\n",
       "      <td>1.666192e+12</td>\n",
       "      <td>-336.0</td>\n",
       "      <td>-148.0</td>\n",
       "      <td>POINT (-32.27198 -15.20399)</td>\n",
       "    </tr>\n",
       "    <tr>\n",
       "      <th>222</th>\n",
       "      <td>1.666202e+12</td>\n",
       "      <td>-338.0</td>\n",
       "      <td>-194.0</td>\n",
       "      <td>POINT (-32.27198 -15.20399)</td>\n",
       "    </tr>\n",
       "    <tr>\n",
       "      <th>223</th>\n",
       "      <td>1.666213e+12</td>\n",
       "      <td>-269.0</td>\n",
       "      <td>-176.0</td>\n",
       "      <td>POINT (-32.27198 -15.20399)</td>\n",
       "    </tr>\n",
       "  </tbody>\n",
       "</table>\n",
       "<p>1718864 rows × 4 columns</p>\n",
       "</div>"
      ],
      "text/plain": [
       "                       time  velocity_u_0  velocity_v_0  \\\n",
       "cluster index                                             \n",
       "0       0      1.665619e+12         225.0        -179.0   \n",
       "        1      1.665630e+12         187.0        -213.0   \n",
       "        2      1.665641e+12         225.0        -226.0   \n",
       "        3      1.665652e+12         239.0        -168.0   \n",
       "        4      1.665662e+12         191.0        -119.0   \n",
       "...                     ...           ...           ...   \n",
       "9891    219    1.666170e+12        -203.0         -48.0   \n",
       "        220    1.666181e+12        -310.0         -89.0   \n",
       "        221    1.666192e+12        -336.0        -148.0   \n",
       "        222    1.666202e+12        -338.0        -194.0   \n",
       "        223    1.666213e+12        -269.0        -176.0   \n",
       "\n",
       "                                      .geo  \n",
       "cluster index                               \n",
       "0       0      POINT (-39.59325 -58.41295)  \n",
       "        1      POINT (-39.59325 -58.41295)  \n",
       "        2      POINT (-39.59325 -58.41295)  \n",
       "        3      POINT (-39.59325 -58.41295)  \n",
       "        4      POINT (-39.59325 -58.41295)  \n",
       "...                                    ...  \n",
       "9891    219    POINT (-32.27198 -15.20399)  \n",
       "        220    POINT (-32.27198 -15.20399)  \n",
       "        221    POINT (-32.27198 -15.20399)  \n",
       "        222    POINT (-32.27198 -15.20399)  \n",
       "        223    POINT (-32.27198 -15.20399)  \n",
       "\n",
       "[1718864 rows x 4 columns]"
      ]
     },
     "execution_count": 46,
     "metadata": {},
     "output_type": "execute_result"
    }
   ],
   "source": [
    "water_df['.geo'] = water_df['.geo'].apply(json.loads).apply(shape)\n",
    "water_df = water_df.dropna().set_index(['cluster'])\n",
    "remap = dict(zip(water_df.index.unique(), list(range(len(water_df.index.unique())))))\n",
    "water_df = water_df.rename(index=remap).set_index(['index'], append=True)\n",
    "water_df = gp.GeoDataFrame(water_df, geometry='.geo')\n",
    "water_df"
   ]
  },
  {
   "cell_type": "code",
   "execution_count": 47,
   "id": "2a7f3701-3476-4c4f-a7ff-a4ceea526ec9",
   "metadata": {
    "pycharm": {
     "name": "#%%\n"
    },
    "tags": []
   },
   "outputs": [
    {
     "data": {
      "text/plain": [
       "(9892, 4, 4)"
      ]
     },
     "execution_count": 47,
     "metadata": {},
     "output_type": "execute_result"
    }
   ],
   "source": [
    "images = []\n",
    "largestx, largesty = -1, -1\n",
    "counter = 0\n",
    "for key, cluster_df in water_df.groupby(level=0):\n",
    "    cluster_df = cluster_df.droplevel(0)\n",
    "\n",
    "    cluster_df.time = pd.to_datetime(cluster_df.time, unit='ms').dt.strftime('%Y-%m-%d')\n",
    "    cluster_df.time = pd.Categorical(cluster_df.time)\n",
    "    \n",
    "    cluster_df.time = cluster_df.time.cat.rename_categories(list(range(len(cluster_df.time.cat.categories))))\n",
    "\n",
    "    cluster_df['x'] = pd.Categorical(cluster_df.geometry.x)\n",
    "    cluster_df['y'] = pd.Categorical(cluster_df.geometry.y)\n",
    "    cluster_df.x = cluster_df.x.cat.rename_categories(list(range(len(cluster_df.x.cat.categories))))\n",
    "    cluster_df.y = cluster_df.y.cat.rename_categories(list(range(len(cluster_df.y.cat.categories))))\n",
    "\n",
    "    time, maxx, maxy = cluster_df.time.cat.categories[-1] + 1, cluster_df.x.cat.categories[-1] + 1, cluster_df.y.cat.categories[-1] + 1\n",
    "    \n",
    "    # i don't want to deal with this shit\n",
    "    if (time != timespan): \n",
    "        counter += 1\n",
    "        continue\n",
    "\n",
    "    cluster_df = cluster_df.pivot_table(values=['velocity_u_0', 'velocity_v_0'], index=['time', 'y', 'x'], aggfunc=np.sum)\n",
    "    img = cluster_df.to_numpy().reshape([time, maxy, maxx, -1])\n",
    "    largestx, largesty = max(maxx, largestx), max(maxy, largesty)\n",
    "    \n",
    "    # [(x, y), img]\n",
    "    pos = water_df.loc[key].iloc[0].loc['.geo']\n",
    "    images.append([(pos.x, pos.y), img])\n",
    "    \n",
    "len(images), largestx, largesty"
   ]
  },
  {
   "cell_type": "markdown",
   "id": "8365b51c-514d-404d-a457-b84b7c6cad93",
   "metadata": {
    "pycharm": {
     "name": "#%% md\n"
    }
   },
   "source": [
    "Just in case we need to rerun any inference, the data doesn't have to be reprocessed."
   ]
  },
  {
   "cell_type": "code",
   "execution_count": 56,
   "id": "48bbc339-19b3-4582-968f-06e6e549b00e",
   "metadata": {
    "pycharm": {
     "name": "#%%\n"
    }
   },
   "outputs": [],
   "source": [
    "with open('data/latest_atlantic_data.pickle', 'wb') as handle:\n",
    "    pickle.dump(images, handle, protocol=pickle.HIGHEST_PROTOCOL)"
   ]
  },
  {
   "cell_type": "markdown",
   "id": "0889f088-2163-46b8-93a2-6050c62a8110",
   "metadata": {
    "tags": [],
    "pycharm": {
     "name": "#%% md\n"
    }
   },
   "source": [
    "# Model Inference"
   ]
  },
  {
   "cell_type": "markdown",
   "id": "0192acf3-339a-4fc6-8bb6-412e48750be3",
   "metadata": {
    "pycharm": {
     "name": "#%% md\n"
    }
   },
   "source": [
    "Define the GRU model"
   ]
  },
  {
   "cell_type": "code",
   "execution_count": 61,
   "id": "dc706c40-c497-4151-9cbe-fb084af23995",
   "metadata": {
    "pycharm": {
     "name": "#%%\n"
    }
   },
   "outputs": [],
   "source": [
    "def conv_output_shape(h_w, kernel_size, stride=1, pad=0, dilation=1):\n",
    "    \"\"\"\n",
    "    Utility function for computing output of convolutions\n",
    "    takes a tuple of (d,h,w) and returns a tuple of (d,h,w)\n",
    "    \"\"\"\n",
    "\n",
    "    if type(h_w) is not tuple:\n",
    "        h_w = (h_w, h_w, h_w)\n",
    "\n",
    "    if type(kernel_size) is not tuple:\n",
    "        kernel_size = (kernel_size, kernel_size)\n",
    "\n",
    "    if type(stride) is not tuple:\n",
    "        stride = (stride, stride)\n",
    "\n",
    "    if type(pad) is not tuple:\n",
    "        pad = (pad, pad)\n",
    "\n",
    "    h = (h_w[0] + (2 * pad[0]) - (dilation * (kernel_size[0] - 1)) - 1) // stride[0] + 1\n",
    "    w = (h_w[1] + (2 * pad[1]) - (dilation * (kernel_size[1] - 1)) - 1) // stride[1] + 1\n",
    "\n",
    "    return h, w\n",
    "\n",
    "class GRUNet(nn.Module):\n",
    "    \"\"\"\n",
    "    The input is expected to be a 5d tensor of dims [batch_size, time_steps, height, width, n_features]\n",
    "    representing a height*width region for a certain time_steps period. The region would contain n_features of\n",
    "    water_velocity, etc. to predict the final output. The final output will be 1 number representing the amount of\n",
    "    microplastics pieces/m^3.\n",
    "    \"\"\"\n",
    "\n",
    "    def __init__(self, input_dims: Tuple[int], hidden_size: int, output_dim=1, n_layers=1, drop_prob=0):\n",
    "        super(GRUNet, self).__init__()\n",
    "\n",
    "        self.batch_size, self.time_steps, self.height, self.width, self.n_features = input_dims\n",
    "\n",
    "        # hidden size refers to the dimensions of the GRUs hidden state\n",
    "        self.hidden_size = hidden_size\n",
    "        # should be 1, as we are predicting only total microplastic concentration in that height*width region\n",
    "        self.output_dim = output_dim\n",
    "        # number of stacked GRUs (default 1)\n",
    "        self.n_layers = n_layers\n",
    "\n",
    "        # 1*3*3 kernel makes it independent of the time_steps dimension, but n_features being the channel makes sure the\n",
    "        # convolutions depend on the value of the features of the surrounding pixels\n",
    "        self.feature_kernel = (1, 3, 3)\n",
    "\n",
    "        # series of convolutions to reduce dimensionality of height*width*n_features to height*width*1\n",
    "        # Quite sure ts0 = time_steps as number of time steps should not be changed throughout the convolutions\n",
    "        # [batch_size, n_features, time_steps, height, width] -> [batch_size, n_features, ts0, h0, w0]\n",
    "        self.conv0 = nn.Conv3d(self.n_features, self.n_features, self.feature_kernel)\n",
    "        h0, w0 = conv_output_shape((self.height, self.width), (3, 3))\n",
    "        # TODO: Add more conv layers\n",
    "        self.conv1 = nn.Conv3d(self.n_features, self.n_features, self.feature_kernel)\n",
    "        h1, w1 = conv_output_shape((h0, w0), (3, 3))\n",
    "        # normalize after convolutions\n",
    "        self.norm = nn.BatchNorm3d(self.n_features)\n",
    "\n",
    "        # this final conv layer will learn to compress n_features into 1 number, essentially a 1*1*1*n_features kernel\n",
    "        # -> [batch_size, 1, ts0, h0, w0]\n",
    "        self.feature_conv = nn.Conv3d(self.n_features, 1, (1,1,1))\n",
    "        # squeeze out the 1 dim.\n",
    "        # -> [batch_size, ts0, h0*w0] flattened final feature map of last 2 dims\n",
    "        self.flatten = nn.Flatten(-2,-1)\n",
    "\n",
    "        # input size of GRU will be the flattened feature map size = h0 * w0\n",
    "        self.gru = nn.GRU(h1*w1, self.hidden_size, self.n_layers, batch_first=True, dropout=drop_prob)\n",
    "        self.fc0 = nn.Linear(self.hidden_size, self.hidden_size//2)\n",
    "        self.fc1 = nn.Linear(self.hidden_size//2, self.output_dim)\n",
    "\n",
    "        self.relu = nn.ReLU()\n",
    "\n",
    "    def forward(self, x, h):\n",
    "        # permute as conv3d accepts inputs of [batch_size, channels/n_features, D/time_steps, H, W]\n",
    "        x = torch.permute(x, (0, 4, 1, 2, 3))\n",
    "        x = self.conv0(x)\n",
    "        x = self.conv1(x)\n",
    "        x = self.norm(x)\n",
    "        x = self.feature_conv(x)\n",
    "        x = torch.permute(x, (0, 2, 3, 4, 1))\n",
    "        # remove the 1 dimensional n_features channel. new shape [batch_size, time_steps, height, width]\n",
    "        x = torch.squeeze(x)\n",
    "        # flatten the height x width channel into a final feature map. -> [batch_size, time_steps, height * width]\n",
    "        x = self.flatten(x)\n",
    "\n",
    "        out, h = self.gru(x, h)\n",
    "        out = self.fc0(self.relu(out[:, -1]))\n",
    "        out = self.fc1(self.relu(out))\n",
    "        out = torch.squeeze(out)\n",
    "        \n",
    "        # this is not part of the original model, but is added for inference\n",
    "        # as we do not actually want negative values as output\n",
    "        out = self.relu(out)\n",
    "\n",
    "        return out, h\n",
    "\n",
    "    def init_hidden(self, batch_size):\n",
    "        weight = next(self.gru.parameters()).data\n",
    "        hidden = weight.new(self.n_layers, batch_size, self.hidden_size).zero_().to(device)\n",
    "        return hidden"
   ]
  },
  {
   "cell_type": "markdown",
   "id": "2f97397c-c038-4af8-82f0-42a55f9be097",
   "metadata": {
    "pycharm": {
     "name": "#%% md\n"
    }
   },
   "source": [
    "Define our image dataset"
   ]
  },
  {
   "cell_type": "code",
   "execution_count": 62,
   "id": "f049d1e6-e978-4a03-a09f-236c6450a9e1",
   "metadata": {
    "pycharm": {
     "name": "#%%\n"
    }
   },
   "outputs": [],
   "source": [
    "class CustomImageDataset(Dataset):\n",
    "    def __init__(self, max_shape=(11,11), data_file=r\"data/latest_atlantic_data.pickle\"):\n",
    "        with open(data_file, 'rb') as handle:\n",
    "            # train_files holds a list of [label, time_series] pairs\n",
    "            # where each label themselves are a list of densities for each time frame.\n",
    "            train_data = pickle.load(handle)\n",
    "\n",
    "        # the different time series data are all of different shapes. We have to pad them on the fly.\n",
    "        self.coords, self.images = zip(*train_data)\n",
    "        self.height, self.width = max_shape\n",
    "\n",
    "    def __len__(self):\n",
    "        return len(self.coords)\n",
    "\n",
    "    def __getitem__(self, idx):\n",
    "        coords = self.coords[idx]\n",
    "        image = self.images[idx]\n",
    "        \n",
    "        # calculate margins for paddings\n",
    "        top = int(np.floor((self.height - image.shape[1])/2.0))\n",
    "        bottom = int(np.ceil((self.height - image.shape[1])/2.0))\n",
    "        left = int(np.floor((self.width - image.shape[2])/2.0))\n",
    "        right = int(np.ceil((self.width - image.shape[2])/2.0))\n",
    "        \n",
    "        # pad the image -> [don't pad time, pad height, pad width, don't pad channels]\n",
    "        image = np.pad(image, [(0, 0), (top, bottom), (left, right), (0, 0)])\n",
    "        return coords, image"
   ]
  },
  {
   "cell_type": "markdown",
   "id": "c91a833c-b130-474a-a6af-ac085e401e37",
   "metadata": {
    "pycharm": {
     "name": "#%% md\n"
    }
   },
   "source": [
    "Instantiate the GRU model"
   ]
  },
  {
   "cell_type": "code",
   "execution_count": 63,
   "id": "c31a1a42-2179-499a-8d81-dfc0b667a820",
   "metadata": {
    "pycharm": {
     "name": "#%%\n"
    }
   },
   "outputs": [],
   "source": [
    "# torch.cuda.is_available() checks and returns a Boolean True if a GPU is available, else it'll return False\n",
    "is_cuda = torch.cuda.is_available()\n",
    "\n",
    "# If we have a GPU available, we'll set our device to GPU. We'll use this device variable later in our code.\n",
    "if is_cuda:\n",
    "    device = torch.device(\"cuda:0\")\n",
    "else:\n",
    "    device = torch.device(\"cpu\")\n",
    "\n",
    "# copied the same parameters as the model was trained with.\n",
    "hidden_dim = 128\n",
    "batch_size = 128\n",
    "time_steps = 7\n",
    "height = 11\n",
    "width = 11\n",
    "n_features = 2\n",
    "output_dim = 1\n",
    "n_layers = 1\n",
    "drop_prob = 0\n",
    "input_dim = (batch_size, time_steps, height, width, n_features)"
   ]
  },
  {
   "cell_type": "code",
   "execution_count": 64,
   "id": "33dd2202-1935-4d5a-aff5-66add7056203",
   "metadata": {
    "pycharm": {
     "name": "#%%\n"
    }
   },
   "outputs": [],
   "source": [
    "# load model in eval mode\n",
    "model = GRUNet(input_dim, hidden_dim, output_dim, n_layers, drop_prob)\n",
    "model.load_state_dict(torch.load(model_path))\n",
    "model = model.to(device)"
   ]
  },
  {
   "cell_type": "markdown",
   "id": "040c12ec-43c4-45ae-83ff-dde362d3e6d6",
   "metadata": {
    "pycharm": {
     "name": "#%% md\n"
    }
   },
   "source": [
    "Run model on the data. We might end up with less data because drop_last=True is set to prevent model from breaking when the total dataset size is not divisible by batch_size"
   ]
  },
  {
   "cell_type": "code",
   "execution_count": 65,
   "id": "73911967-34ab-4106-9e90-ab24ec46e042",
   "metadata": {
    "pycharm": {
     "name": "#%%\n"
    }
   },
   "outputs": [
    {
     "data": {
      "text/plain": [
       "tensor([[-39.5932, -58.4130,   0.0894],\n",
       "        [-43.2763,  46.2857,   0.1925],\n",
       "        [-67.6656,  36.8534,   0.0000],\n",
       "        ...,\n",
       "        [-18.4828,  62.3655,   0.0000],\n",
       "        [-10.0387, -58.1435,   0.3133],\n",
       "        [-45.4323,  11.1167,   7.1942]], dtype=torch.float64)"
      ]
     },
     "execution_count": 65,
     "metadata": {},
     "output_type": "execute_result"
    }
   ],
   "source": [
    "dataset = CustomImageDataset(max_shape=(11, 11), data_file='data/latest_atlantic_data.pickle')\n",
    "loader = DataLoader(dataset, batch_size=128, shuffle=False, drop_last=True)\n",
    "\n",
    "# list of batch_size tensors\n",
    "results = list()\n",
    "\n",
    "with torch.inference_mode():\n",
    "    for coords, img in loader:\n",
    "        h = model.init_hidden(batch_size)\n",
    "        output, h = model.forward(img.to(device).float(), h)\n",
    "        results.append(torch.stack(coords + [output.cpu()], dim=1))\n",
    "        \n",
    "results = torch.cat(results)\n",
    "results"
   ]
  },
  {
   "cell_type": "code",
   "execution_count": 66,
   "id": "bb1cab43-5e36-4e37-aba4-0f0dfcb7f97e",
   "metadata": {
    "pycharm": {
     "name": "#%%\n"
    }
   },
   "outputs": [
    {
     "data": {
      "text/plain": [
       "torch.Size([9856, 3])"
      ]
     },
     "execution_count": 66,
     "metadata": {},
     "output_type": "execute_result"
    }
   ],
   "source": [
    "results.shape"
   ]
  },
  {
   "cell_type": "markdown",
   "id": "09a0e190-26dd-421b-be8c-3edb9237b11c",
   "metadata": {
    "pycharm": {
     "name": "#%% md\n"
    }
   },
   "source": [
    "Memory consumption since start of the program. The relevant part would be active_bytes.all as it provides the current and peak memory allocations. "
   ]
  },
  {
   "cell_type": "code",
   "execution_count": 67,
   "id": "486b6a51-f6f9-48fc-a4b4-fb1c8f667725",
   "metadata": {
    "collapsed": true,
    "jupyter": {
     "outputs_hidden": true
    },
    "tags": [],
    "pycharm": {
     "name": "#%%\n"
    }
   },
   "outputs": [
    {
     "data": {
      "text/plain": [
       "OrderedDict([('active.all.allocated', 4329),\n",
       "             ('active.all.current', 18),\n",
       "             ('active.all.freed', 4311),\n",
       "             ('active.all.peak', 25),\n",
       "             ('active.large_pool.allocated', 570),\n",
       "             ('active.large_pool.current', 0),\n",
       "             ('active.large_pool.freed', 570),\n",
       "             ('active.large_pool.peak', 2),\n",
       "             ('active.small_pool.allocated', 3759),\n",
       "             ('active.small_pool.current', 18),\n",
       "             ('active.small_pool.freed', 3741),\n",
       "             ('active.small_pool.peak', 24),\n",
       "             ('active_bytes.all.allocated', 4532470272),\n",
       "             ('active_bytes.all.current', 380928),\n",
       "             ('active_bytes.all.freed', 4532089344),\n",
       "             ('active_bytes.all.peak', 21008384),\n",
       "             ('active_bytes.large_pool.allocated', 3917660160),\n",
       "             ('active_bytes.large_pool.current', 0),\n",
       "             ('active_bytes.large_pool.freed', 3917660160),\n",
       "             ('active_bytes.large_pool.peak', 18884608),\n",
       "             ('active_bytes.small_pool.allocated', 614810112),\n",
       "             ('active_bytes.small_pool.current', 380928),\n",
       "             ('active_bytes.small_pool.freed', 614429184),\n",
       "             ('active_bytes.small_pool.peak', 2181120),\n",
       "             ('allocated_bytes.all.allocated', 4532470272),\n",
       "             ('allocated_bytes.all.current', 380928),\n",
       "             ('allocated_bytes.all.freed', 4532089344),\n",
       "             ('allocated_bytes.all.peak', 21008384),\n",
       "             ('allocated_bytes.large_pool.allocated', 3917660160),\n",
       "             ('allocated_bytes.large_pool.current', 0),\n",
       "             ('allocated_bytes.large_pool.freed', 3917660160),\n",
       "             ('allocated_bytes.large_pool.peak', 18884608),\n",
       "             ('allocated_bytes.small_pool.allocated', 614810112),\n",
       "             ('allocated_bytes.small_pool.current', 380928),\n",
       "             ('allocated_bytes.small_pool.freed', 614429184),\n",
       "             ('allocated_bytes.small_pool.peak', 2181120),\n",
       "             ('allocation.all.allocated', 4329),\n",
       "             ('allocation.all.current', 18),\n",
       "             ('allocation.all.freed', 4311),\n",
       "             ('allocation.all.peak', 25),\n",
       "             ('allocation.large_pool.allocated', 570),\n",
       "             ('allocation.large_pool.current', 0),\n",
       "             ('allocation.large_pool.freed', 570),\n",
       "             ('allocation.large_pool.peak', 2),\n",
       "             ('allocation.small_pool.allocated', 3759),\n",
       "             ('allocation.small_pool.current', 18),\n",
       "             ('allocation.small_pool.freed', 3741),\n",
       "             ('allocation.small_pool.peak', 24),\n",
       "             ('inactive_split.all.allocated', 1816),\n",
       "             ('inactive_split.all.current', 5),\n",
       "             ('inactive_split.all.freed', 1811),\n",
       "             ('inactive_split.all.peak', 8),\n",
       "             ('inactive_split.large_pool.allocated', 570),\n",
       "             ('inactive_split.large_pool.current', 0),\n",
       "             ('inactive_split.large_pool.freed', 570),\n",
       "             ('inactive_split.large_pool.peak', 2),\n",
       "             ('inactive_split.small_pool.allocated', 1246),\n",
       "             ('inactive_split.small_pool.current', 5),\n",
       "             ('inactive_split.small_pool.freed', 1241),\n",
       "             ('inactive_split.small_pool.peak', 6),\n",
       "             ('inactive_split_bytes.all.allocated', 8819405824),\n",
       "             ('inactive_split_bytes.all.current', 1716224),\n",
       "             ('inactive_split_bytes.all.freed', 8817689600),\n",
       "             ('inactive_split_bytes.all.peak', 20953600),\n",
       "             ('inactive_split_bytes.large_pool.allocated', 7639592960),\n",
       "             ('inactive_split_bytes.large_pool.current', 0),\n",
       "             ('inactive_split_bytes.large_pool.freed', 7639592960),\n",
       "             ('inactive_split_bytes.large_pool.peak', 19236864),\n",
       "             ('inactive_split_bytes.small_pool.allocated', 1179812864),\n",
       "             ('inactive_split_bytes.small_pool.current', 1716224),\n",
       "             ('inactive_split_bytes.small_pool.freed', 1178096640),\n",
       "             ('inactive_split_bytes.small_pool.peak', 2595328),\n",
       "             ('max_split_size', -1),\n",
       "             ('num_alloc_retries', 0),\n",
       "             ('num_ooms', 0),\n",
       "             ('oversize_allocations.allocated', 0),\n",
       "             ('oversize_allocations.current', 0),\n",
       "             ('oversize_allocations.freed', 0),\n",
       "             ('oversize_allocations.peak', 0),\n",
       "             ('oversize_segments.allocated', 0),\n",
       "             ('oversize_segments.current', 0),\n",
       "             ('oversize_segments.freed', 0),\n",
       "             ('oversize_segments.peak', 0),\n",
       "             ('reserved_bytes.all.allocated', 25165824),\n",
       "             ('reserved_bytes.all.current', 25165824),\n",
       "             ('reserved_bytes.all.freed', 0),\n",
       "             ('reserved_bytes.all.peak', 25165824),\n",
       "             ('reserved_bytes.large_pool.allocated', 20971520),\n",
       "             ('reserved_bytes.large_pool.current', 20971520),\n",
       "             ('reserved_bytes.large_pool.freed', 0),\n",
       "             ('reserved_bytes.large_pool.peak', 20971520),\n",
       "             ('reserved_bytes.small_pool.allocated', 4194304),\n",
       "             ('reserved_bytes.small_pool.current', 4194304),\n",
       "             ('reserved_bytes.small_pool.freed', 0),\n",
       "             ('reserved_bytes.small_pool.peak', 4194304),\n",
       "             ('segment.all.allocated', 3),\n",
       "             ('segment.all.current', 3),\n",
       "             ('segment.all.freed', 0),\n",
       "             ('segment.all.peak', 3),\n",
       "             ('segment.large_pool.allocated', 1),\n",
       "             ('segment.large_pool.current', 1),\n",
       "             ('segment.large_pool.freed', 0),\n",
       "             ('segment.large_pool.peak', 1),\n",
       "             ('segment.small_pool.allocated', 2),\n",
       "             ('segment.small_pool.current', 2),\n",
       "             ('segment.small_pool.freed', 0),\n",
       "             ('segment.small_pool.peak', 2)])"
      ]
     },
     "execution_count": 67,
     "metadata": {},
     "output_type": "execute_result"
    }
   ],
   "source": [
    "torch.cuda.memory_stats(device)"
   ]
  },
  {
   "cell_type": "markdown",
   "id": "7f0093c6-1f08-4fc3-b1df-0a9361bb5e48",
   "metadata": {
    "pycharm": {
     "name": "#%% md\n"
    }
   },
   "source": [
    "As convention is latitude (y) longitude (x), we will output the results of the model inference in a json format. However, some geodesic formats prefer longitude/latitude because it has a direct mapping with the x/y convention."
   ]
  },
  {
   "cell_type": "code",
   "execution_count": 91,
   "id": "b8ef87a3-409b-4096-b36f-97e7393a9ae5",
   "metadata": {
    "tags": [],
    "pycharm": {
     "name": "#%%\n"
    }
   },
   "outputs": [],
   "source": [
    "f = open(\"model_preds.json\", \"w\")\n",
    "f.write(json.dumps([{'lat':lat, 'lng':lng, 'conc':conc} for lat,lng,conc in results.tolist()]))\n",
    "f.close()"
   ]
  }
 ],
 "metadata": {
  "kernelspec": {
   "display_name": "Python 3 (ipykernel)",
   "language": "python",
   "name": "python3"
  },
  "language_info": {
   "codemirror_mode": {
    "name": "ipython",
    "version": 3
   },
   "file_extension": ".py",
   "mimetype": "text/x-python",
   "name": "python",
   "nbconvert_exporter": "python",
   "pygments_lexer": "ipython3",
   "version": "3.9.12"
  }
 },
 "nbformat": 4,
 "nbformat_minor": 5
}